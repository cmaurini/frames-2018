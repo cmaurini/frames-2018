{
 "cells": [
  {
   "cell_type": "markdown",
   "metadata": {},
   "source": [
    "# Exercice 1"
   ]
  },
  {
   "cell_type": "markdown",
   "metadata": {},
   "source": [
    "Write a function  solving the problem with a beam with an arbritary number of elements and arbritary loading. Do it either in a text file (`.py`) or in a new jupyter notebook. \n",
    "\n",
    "In particular, test your program on a clamped-clamped beam submitted to a uniform transverse load $\\underline f(s)=-p\\underline e_2$. It can be shown (see the course *Calcul des Structures*) that the analytical solution for the transverse displacement is \n",
    "$$\n",
    "v(s) = \\dfrac{p s^2}{24EI}(L-s)^2\n",
    "$$\n",
    "Compare the numerical solution against this analytical solution when using $n=5$, $n=10$, $n=20$, $n=100$ elements"
   ]
  }
 ],
 "metadata": {
  "kernelspec": {
   "display_name": "Python 3",
   "language": "python",
   "name": "python3"
  },
  "language_info": {
   "codemirror_mode": {
    "name": "ipython",
    "version": 3
   },
   "file_extension": ".py",
   "mimetype": "text/x-python",
   "name": "python",
   "nbconvert_exporter": "python",
   "pygments_lexer": "ipython3",
   "version": "3.6.3"
  }
 },
 "nbformat": 4,
 "nbformat_minor": 1
}
