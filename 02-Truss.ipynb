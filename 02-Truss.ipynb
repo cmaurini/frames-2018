{
 "cells": [
  {
   "cell_type": "markdown",
   "metadata": {},
   "source": [
    "# Numerical modelling of a truss\n",
    "\n",
    "This notebook is a guide to create your own code for solving a generic truss problem. \n",
    "To solve some of the **Exercices** below you can look at the notebook $01-LinearBeam$"
   ]
  },
  {
   "cell_type": "code",
   "execution_count": 1,
   "metadata": {},
   "outputs": [],
   "source": [
    "import sympy as sp\n",
    "import numpy as np\n",
    "import matplotlib.pyplot as plt\n",
    "from sympy.interactive import printing\n",
    "printing.init_printing()\n",
    "%matplotlib inline"
   ]
  },
  {
   "cell_type": "markdown",
   "metadata": {},
   "source": [
    "Let us consider here the simple case of a truss (*treillis*) where the bars are without bending and shear stresses. We introduce some symbols to be used later:"
   ]
  },
  {
   "cell_type": "code",
   "execution_count": 2,
   "metadata": {},
   "outputs": [],
   "source": [
    "L, s, ES, alpha = sp.symbols('L, s, ES, alpha')"
   ]
  },
  {
   "cell_type": "markdown",
   "metadata": {},
   "source": [
    "The geometry of a truss can be assigned through a collection of nodes and elements. Example:"
   ]
  },
  {
   "cell_type": "code",
   "execution_count": 3,
   "metadata": {},
   "outputs": [],
   "source": [
    "nodes = np.array([[0.,0.],[4.,0.],[7.,0.],[4.,3.]])\n",
    "elements = np.array([[0,1],[1,2],[2,3],[0,3],[1,3]])"
   ]
  },
  {
   "cell_type": "markdown",
   "metadata": {},
   "source": [
    "We define a Truss `class` (see https://openclassrooms.com/courses/apprenez-a-programmer-en-python/premiere-approche-des-classes) collecting its nodes and elements and useful methods for their analysis."
   ]
  },
  {
   "cell_type": "code",
   "execution_count": 4,
   "metadata": {},
   "outputs": [],
   "source": [
    "class Truss():\n",
    "    \"\"\"\n",
    "    This class implements a model for a linear model of a planar truss.\n",
    "    \"\"\"\n",
    "\n",
    "    def __init__(self, nodes, elements):\n",
    "        \"\"\"\n",
    "        Define a planar truss structure given an array of nodes and an array of elements.\n",
    "\n",
    "        input:\n",
    "         - nodes:  a nnodes x 2 np.array list of point coordinates\n",
    "         - elements: a nelements x 2 list of integers, given the node numbers defining each element\n",
    "        \"\"\"\n",
    "        self.nodes = nodes\n",
    "        self.elements = elements\n",
    "        self.nnodes = self.nodes.shape[0]\n",
    "        self.nelements = self.elements.shape[0]\n",
    "        self.ndof = 2*self.nnodes\n",
    "        self.Ls = np.array([self.L(e) for e in range(self.nelements)])\n",
    "        self.angles = np.array([self.angle(e) for e in range(self.nelements)])\n",
    "        # set default values for stiffness and loadings\n",
    "        self.ES = 1*np.ones(self.nelements)\n",
    "        # initialize to 0 the displacement\n",
    "        self.U = np.zeros(self.ndof)\n",
    "        print(\"Truss with\")\n",
    "        print(\"%i elements\"%self.nelements)\n",
    "        print(\"%i nodes\"%self.nnodes)\n",
    "        print(\"%i dofs\"%self.ndof)\n",
    "\n",
    "    def L(self, e):\n",
    "        \"\"\"\n",
    "        Returns the length of the element e\n",
    "        \"\"\"\n",
    "        dx = self.nodes[self.elements[e]][1]-self.nodes[self.elements[e]][0]\n",
    "        return np.sqrt(dx[0]**2+dx[1]**2)\n",
    "    \n",
    "    def plot(self, label=True):\n",
    "        \"\"\"\n",
    "        plot the frame\n",
    "        \"\"\"\n",
    "        fig, ax = plt.subplots()\n",
    "        nodes = self.nodes\n",
    "        elements = self.elements\n",
    "        shift = nodes.max()*.02\n",
    "        for (e_num,e) in enumerate(elements):\n",
    "            xcoords = nodes[e][:,0]\n",
    "            ycoords = nodes[e][:,1]\n",
    "            ax.plot(xcoords, ycoords,'o-',lw=2, color='black', ms=10)\n",
    "            if label:\n",
    "                ax.text((xcoords[0]+xcoords[1])/2.+shift, (ycoords[0]+ycoords[1])/2.+shift,\n",
    "                        str(e_num), bbox=dict(facecolor='yellow'))\n",
    "                for i in range(e.size):\n",
    "                    ax.text(xcoords[i]+shift, ycoords[i]+shift, e[i],\n",
    "                            verticalalignment = 'bottom', horizontalalignment = 'left')\n",
    "        ax.set_xlim(nodes[:,0].min()-10*shift, nodes[:,0].max()+10*shift)\n",
    "        ax.set_ylim(nodes[:,1].min()-10*shift, nodes[:,1].max()+10*shift)\n",
    "        ax.set_aspect('equal', 'datalim')\n",
    "        return ax\n",
    "    \n",
    "    def dof_map_e(self,e):\n",
    "        \"\"\"\n",
    "        Returns the list of global dofs for the element e\n",
    "        \"\"\"\n",
    "        return np.array([self.elements[e,0]*2, self.elements[e,0]*2+1,\n",
    "                     self.elements[e,1]*2, self.elements[e,1]*2+1])\n",
    "\n",
    "    def dof_map(self,e,i_local):\n",
    "        \"\"\"\n",
    "        Returns the global dof corresponding to the local dof i_local in the element e\n",
    "        \"\"\"\n",
    "        return self.dof_map_e(e)[i_local]\n",
    "    \n",
    "    def angle(self, e):\n",
    "        \"\"\"\n",
    "        Returns the orientation angle of the element e\n",
    "        \"\"\"\n",
    "        coord = self.nodes[self.elements[e]]\n",
    "        delta = coord[1]-coord[0]\n",
    "        angle = np.arctan2(delta[1],delta[0])\n",
    "        return angle"
   ]
  },
  {
   "cell_type": "markdown",
   "metadata": {},
   "source": [
    "We can then create an object truss, instance of the `Truss` class and plot its shape "
   ]
  },
  {
   "cell_type": "code",
   "execution_count": 5,
   "metadata": {},
   "outputs": [
    {
     "name": "stdout",
     "output_type": "stream",
     "text": [
      "Truss with\n",
      "5 elements\n",
      "4 nodes\n",
      "8 dofs\n"
     ]
    },
    {
     "data": {
      "text/plain": [
       "<matplotlib.axes._subplots.AxesSubplot at 0x10f455a20>"
      ]
     },
     "execution_count": 5,
     "metadata": {},
     "output_type": "execute_result"
    },
    {
     "data": {
      "image/png": "[encoded data removed]",
      "text/plain": [
       "<matplotlib.figure.Figure at 0x10f4554e0>"
      ]
     },
     "metadata": {},
     "output_type": "display_data"
    }
   ],
   "source": [
    "truss = Truss(nodes,elements)\n",
    "truss.plot()"
   ]
  },
  {
   "cell_type": "markdown",
   "metadata": {},
   "source": [
    "** Exercice 0: ** Add to the `Truss` class a method `angle` to define the angle $\\alpha$ defining the orientation of each bar in the global coordinate system and modify the initiatialization of the class to add the class an attribute `angles` collecting in a numpy vector the orientation angle of all the elements. "
   ]
  },
  {
   "cell_type": "markdown",
   "metadata": {},
   "source": [
    "# Local and global coordinates\n",
    "\n",
    "Let us denote by $\\underline{t_e}$ and $\\underline{n_e}$ the unit vectors tangential and orthogonal to the bar $e$, connecting the nodes $i$ and $j$. For each bar there are two relevant choice of the reference frame:\n",
    "\n",
    "* The **global reference frame** (0,$\\underline e_1$,$\\underline e_2$) \n",
    "\n",
    "* The **local reference frame** (i,$\\underline t_e$,$\\underline n_e$) \n",
    "\n",
    "The displacement of each point of the bar can then be written as:\n",
    "$$\n",
    "\\underline u(s) = u_x(s) \\underline e_1 + u_y(s) \\underline e_2 =\n",
    " u_t(s) \\underline t_e + u_n(s) \\underline n_e\n",
    "$$\n",
    "where $U_g=[u_x,u_y]^T$ and $U_l=[u_t,u_n]^2$ are the global and local compontents, respectively. "
   ]
  },
  {
   "cell_type": "markdown",
   "metadata": {},
   "source": [
    "** Exercice 1 ** \n",
    "Show that \n",
    "$$\n",
    "U_g = R U_l\n",
    "$$\n",
    "where the change of coordinate matrix $R$ is:"
   ]
  },
  {
   "cell_type": "code",
   "execution_count": 6,
   "metadata": {},
   "outputs": [
    {
     "data": {
      "image/png": "[encoded data removed]",
      "text/latex": [
       "$$\\left[\\begin{matrix}\\cos{\\left (\\alpha \\right )} & \\sin{\\left (\\alpha \\right )}\\\\- \\sin{\\left (\\alpha \\right )} & \\cos{\\left (\\alpha \\right )}\\end{matrix}\\right]$$"
      ],
      "text/plain": [
       "⎡cos(α)   sin(α)⎤\n",
       "⎢               ⎥\n",
       "⎣-sin(α)  cos(α)⎦"
      ]
     },
     "execution_count": 6,
     "metadata": {},
     "output_type": "execute_result"
    }
   ],
   "source": [
    "R = sp.Matrix([[sp.cos(alpha),sp.sin(alpha)],[-sp.sin(alpha),sp.cos(alpha)]])\n",
    "R"
   ]
  },
  {
   "cell_type": "markdown",
   "metadata": {},
   "source": [
    "# Energy and stiffness matrix"
   ]
  },
  {
   "cell_type": "markdown",
   "metadata": {},
   "source": [
    "The normal stress in each bar is a constant, $N_e$, the deformation is $\\varepsilon_e=N_e/ES=\\Delta L/L$, where $L$ is the length of the bar and  $\\Delta L=u_t(L)-u_t(0)=u_t^{(j)}-u_t^{(i)}$ its elongation, the superscript referring to the node number. \n",
    "The elastic energy of the bar $e$ is \n",
    "$$\n",
    "\\mathcal{E}_e=\\int_0^L ES \\varepsilon_e(x)^2\\mathrm{d}x \n",
    "$$\n",
    "\n",
    "**Exercice 2** Assuming that the axial displacement in each bar is in the form (linear approximation):\n",
    "$$\n",
    "\\underline u(s) = \\left(\\frac{s}{L} u_t^{(j)} +  \\frac{L-s}{L}u_t^{(i)}\\right)\\underline{t}\n",
    "$$\n",
    "show that the elastic energy of each bar can be written in the form\n",
    "$$\n",
    "\\mathcal{E}_e=\\dfrac{1}{2}K^{(e)}_l U_l\\cdot U_l=\\dfrac{1}{2}K^{(e)}_g U_g\\cdot U_g\n",
    "$$\n",
    "where the coordinate representation of the local stiffness matrix $K_e$ in the local  coordinate systems is:"
   ]
  },
  {
   "cell_type": "code",
   "execution_count": null,
   "metadata": {},
   "outputs": [],
   "source": [
    "S = sp.Matrix([1 - s/L, 0, s/L, 0])\n",
    "B = sp.Matrix(S.diff(s,1))\n",
    "# Local stifnness in local coordinate\n",
    "Ke_l = ES*sp.integrate(B*B.transpose(),(s,0,L))\n",
    "Ke_l"
   ]
  },
  {
   "cell_type": "markdown",
   "metadata": {},
   "source": [
    "Determine the representation of the local stiffnness in the global reference frame (the code below should be completed)"
   ]
  },
  {
   "cell_type": "code",
   "execution_count": 8,
   "metadata": {},
   "outputs": [
    {
     "ename": "SyntaxError",
     "evalue": "invalid syntax (<ipython-input-8-9a8ec5f4158a>, line 2)",
     "output_type": "error",
     "traceback": [
      "\u001b[0;36m  File \u001b[0;32m\"<ipython-input-8-9a8ec5f4158a>\"\u001b[0;36m, line \u001b[0;32m2\u001b[0m\n\u001b[0;31m    Re =\u001b[0m\n\u001b[0m         ^\u001b[0m\n\u001b[0;31mSyntaxError\u001b[0m\u001b[0;31m:\u001b[0m invalid syntax\n"
     ]
    }
   ],
   "source": [
    "# Local stifnness in global coordinate\n",
    "Re = \n",
    "Ke_g = Re*Ke_l*Re.transpose()\n",
    "Ke_g"
   ]
  },
  {
   "cell_type": "markdown",
   "metadata": {},
   "source": [
    "Let us define the global displacement vector $U$ collecting the displacement of all the nodes in the global coordinate systems:\n",
    "$$\n",
    "U = \\begin{bmatrix}\n",
    "u_x^{(1)}\\\\\n",
    "u_y^{(1)}\\\\\n",
    "\\vdots\\\\\n",
    "u_x^{(i)}\\\\\n",
    "u_y^{(i)}\\\\\n",
    "\\vdots\\\\\n",
    "u_x^{(n)}\\\\\n",
    "u_y^{(n)}\\\\\n",
    "\\end{bmatrix}\n",
    "$$\n",
    "\n",
    "\n",
    "**Exercise 3**: \n",
    "Let us define the global stiffness matrix $K$ in the global coordinate system as the matrix $K$ such that the total elastic energy of the truss is:\n",
    "$$\n",
    "\\mathcal E = \\sum_{el=1}\\dfrac{1}{2}K^{(e)} U^{(e)}\\cdot U^{(e)} = \\dfrac{1}{2}K U\\cdot U\n",
    "$$\n",
    "Write a function `assemble_stifness(truss)`"
   ]
  },
  {
   "cell_type": "markdown",
   "metadata": {},
   "source": [
    "# Load vector"
   ]
  },
  {
   "cell_type": "markdown",
   "metadata": {},
   "source": [
    "** Exercice **\n",
    "Consider the loading in the form of forces concentrated at nodes. Let  $F_x^{i}$ and $F_y^{i}$ be the global coordiantes of the forces at node $i$. Determine the expression of the global load vector. "
   ]
  },
  {
   "cell_type": "markdown",
   "metadata": {},
   "source": [
    "# Solve "
   ]
  },
  {
   "cell_type": "markdown",
   "metadata": {},
   "source": [
    "**Exercice**\n",
    "Determine the solution of the linear system $K U = F$, imposing the appropiate boundary conditions."
   ]
  },
  {
   "cell_type": "markdown",
   "metadata": {},
   "source": [
    "# Postprocessing \n",
    "**Exercice**\n",
    "1. Add a method to the truss class to visualize the shape of the truss after applyin the nodal displacement vector $U$.\n",
    "2. Add a method to the truss class to determine the normal stress in each bar"
   ]
  },
  {
   "cell_type": "markdown",
   "metadata": {},
   "source": [
    "# Verification "
   ]
  },
  {
   "cell_type": "markdown",
   "metadata": {},
   "source": [
    "**Exercice**\n",
    "Choose a simple test problem to verify your code (for example the TP in St.Cyr on the Von Mises truss)."
   ]
  },
  {
   "cell_type": "markdown",
   "metadata": {},
   "source": [
    "# Encapsulation\n",
    "\n",
    "**Exercice** Encapsulate all the code necessary and sufficient to solve a truss problem in the `Truss` class and put it a `truss.py` python file. Solve an example in a separate jupyter notebook by importing `truss` as a python module and using its `Truss` class. "
   ]
  },
  {
   "cell_type": "code",
   "execution_count": null,
   "metadata": {},
   "outputs": [],
   "source": []
  }
 ],
 "metadata": {
  "kernelspec": {
   "display_name": "Python 3",
   "language": "python",
   "name": "python3"
  },
  "language_info": {
   "codemirror_mode": {
    "name": "ipython",
    "version": 3
   },
   "file_extension": ".py",
   "mimetype": "text/x-python",
   "name": "python",
   "nbconvert_exporter": "python",
   "pygments_lexer": "ipython3",
   "version": "3.6.3"
  }
 },
 "nbformat": 4,
 "nbformat_minor": 2
}
