{
 "cells": [
  {
   "cell_type": "markdown",
   "metadata": {},
   "source": [
    "https://www.explainxkcd.com/wiki/images/f/fd/python.png"
   ]
  },
  {
   "cell_type": "markdown",
   "metadata": {},
   "source": [
    "# Beam Model\n",
    "\n",
    "## Kinematics\n",
    "\n",
    "Consider a beam of length L  with a straigth reference configuration and denote by $s$ the arc-length in this configuration. Without loss of generality, let us use a Cartesian reference system $(O,\\underline{e}_1,\\underline{e}_2)$ with the origin at the left end of the beam and $\\underline{e}_1$ oriented as the beam in the reference configuration. Hence the reference configuration can be wirtten with the following parametric representation\n",
    "\n",
    "$$\n",
    "\\underline x_R(s) = s \\,\\underline{e_1} \n",
    "$$\n",
    "\n",
    "The current cunfiguration is given by \n",
    "\n",
    "$$\n",
    "\\underline x(s) =  (s+u(s)) \\underline{e}_1 + v(s) \\underline{e}_2\n",
    "$$\n",
    "\n",
    "where $\\underline u(s)= u(s) \\underline{e}_1 + v(s) \\underline{e}_2$ is the displacement vector, with the axial ($u$) and transversal ($v$) components, in the reference configuration.\n",
    "\n",
    "We can use two `python` packages, `numpy` and `matplotlib` to represent the beam.\n",
    "\n",
    "First let us define the reference configuration as two functions:"
   ]
  },
  {
   "cell_type": "code",
   "execution_count": 1,
   "metadata": {},
   "outputs": [
    {
     "data": {
      "text/plain": [
       "array([ 0.        ,  0.05263158,  0.10526316,  0.15789474,  0.21052632,\n",
       "        0.26315789,  0.31578947,  0.36842105,  0.42105263,  0.47368421,\n",
       "        0.52631579,  0.57894737,  0.63157895,  0.68421053,  0.73684211,\n",
       "        0.78947368,  0.84210526,  0.89473684,  0.94736842,  1.        ])"
      ]
     },
     "execution_count": 1,
     "metadata": {},
     "output_type": "execute_result"
    }
   ],
   "source": [
    "import numpy as np\n",
    "def xR(s):\n",
    "    return s\n",
    "def yR(s):\n",
    "    return 0.*s\n",
    "s = np.linspace(0.,1.,20) \n",
    "xR(s)"
   ]
  },
  {
   "cell_type": "markdown",
   "metadata": {},
   "source": [
    "We can represent it using `matplotlib`"
   ]
  },
  {
   "cell_type": "code",
   "execution_count": 2,
   "metadata": {},
   "outputs": [
    {
     "data": {
      "text/plain": [
       "[<matplotlib.lines.Line2D at 0x10dde3080>]"
      ]
     },
     "execution_count": 2,
     "metadata": {},
     "output_type": "execute_result"
    },
    {
     "data": {
      "image/png": "[encoded data removed]",
      "text/plain": [
       "<matplotlib.figure.Figure at 0x10cc7a128>"
      ]
     },
     "metadata": {},
     "output_type": "display_data"
    }
   ],
   "source": [
    "import matplotlib.pyplot as plt\n",
    "%matplotlib inline  \n",
    "\n",
    "plt.plot(xR(s),yR(s))"
   ]
  },
  {
   "cell_type": "markdown",
   "metadata": {},
   "source": [
    "Then we can do it better with the current configuration"
   ]
  },
  {
   "cell_type": "code",
   "execution_count": 3,
   "metadata": {},
   "outputs": [
    {
     "data": {
      "text/plain": [
       "Text(0.47,0.157,'$({x}(s),y(s))$')"
      ]
     },
     "execution_count": 3,
     "metadata": {},
     "output_type": "execute_result"
    },
    {
     "data": {
      "image/png": "[encoded data removed]",
      "text/plain": [
       "<matplotlib.figure.Figure at 0x10de48c18>"
      ]
     },
     "metadata": {},
     "output_type": "display_data"
    }
   ],
   "source": [
    "x = lambda s : xR(s) + .1*s\n",
    "y = lambda s : yR(s) + .3*s**2\n",
    "\n",
    "#with plt.xkcd():\n",
    "fig, ax = plt.subplots()\n",
    "ax.plot(x(s),y(s),\"r\",color='b', ls='-', lw=3)\n",
    "ax.plot(xR(s),yR(s),\"r\",color='b', ls='--', lw=3)\n",
    "ax.quiver(xR(.7),yR(.7),x(.7)-xR(.7),y(.7)-yR(.7),color='r',scale_units='xy', angles='xy', scale=1)\n",
    "ax.get_xaxis().set_visible(False)\n",
    "ax.get_yaxis().set_visible(False)\n",
    "ax.set_title(\"Reference and deformed configuration\")\n",
    "ax.set_xlim(-0.2, 1.2)\n",
    "ax.set_ylim(-0.05, .35)\n",
    "ax.text(xR(.7)-.2,yR(.7)-.03,r'$({x}_R(s),y_R(s))$')\n",
    "ax.text(x(.7)-.3,y(.7)+.01,r'$({x}(s),y(s))$')\n",
    "\n"
   ]
  },
  {
   "cell_type": "markdown",
   "metadata": {},
   "source": [
    "The unit tangent vector to the current configuration is given by\n",
    "\n",
    "\\begin{equation}\n",
    "\\underline{t}(s) = \\dfrac{\\underline{x}'(s)}{\\Vert{\\underline{x}'(s)}\\Vert} = \\cos\\theta(s)\\,\\underline{e}_1 + \\sin\\theta(s) \\,\\underline{e}_2\n",
    "\\end{equation}\n",
    "\n",
    "where in the last equality we introduced the angle $\\theta(s)$ between the tangent $\\underline{t}(s)$ and $\\underline{e}_1$.\n",
    "\n",
    "We define the following **deformations measures** for the beam:\n",
    "\n",
    "\\begin{equation}\n",
    "\\begin{cases}\n",
    "\\epsilon(s) = \\Vert{\\underline{x}'(s)}\\Vert - 1 = \\sqrt{(1+u'(s))^2+v'(s)^2}-1&(extension)\\\\\n",
    "\\kappa(s) = \\theta'(s) & (curvature)\n",
    "\\end{cases}\n",
    "\\end{equation}\n",
    "\n",
    "When $\\epsilon(s)=0$ the beam is *inextensible* and $s$ is an arc-length also in the current configuration. Otherwise the arclength in the current configuration is given by $\\tilde s$, such that $\\mathrm d \\tilde s ^2= \\mathrm d x^2+ \\mathrm d y^2 = \\Vert{\\underline{x}'(s)}\\Vert^2 ds^2 $. \n",
    "\n",
    "The definions of the extension and the tangent give the following expressions for the  derivatives of the displacement field:\n",
    "\n",
    "$$\n",
    "\\begin{cases}\n",
    "u'(s)&=(1+\\epsilon(s))\\cos\\theta(s) - 1\\\\\n",
    "v'(s)&=(1+\\epsilon(s))\\sin\\theta(s)\n",
    "\\end{cases}\n",
    "$$\n",
    "\n",
    "### Moderation rotations, small extension approximation\n",
    "\n",
    "Let us assume that $\\theta$ and $e$ are small. \n",
    "Then by a Taylor expansion\n",
    "\n",
    "$$\n",
    "\\begin{cases}\n",
    "u'(s)&=(1+\\epsilon(s))\\cos\\theta(s) - 1\\simeq \\epsilon(s)-\\dfrac{\\theta(s)^2}{2}\\\\\n",
    "v'(s)&=(1+\\epsilon(s))\\sin\\theta(s) \\simeq \\theta(s)+o(\\theta^2)\n",
    "\\end{cases}\n",
    "$$\n",
    "\n",
    "### Linearized kinematics\n",
    "\n",
    "\n",
    "Retaning only the linear terms in the Taylor expansion above one get the fully linearized kinematics for a planar Euler-Bernoulli beam:\n",
    "\n",
    "$$\n",
    "\\begin{cases}\n",
    "\\epsilon(s) = u'(s)\\\\\n",
    "\\theta(s) = v'(s)\\quad\\Rightarrow\\quad \\kappa(s)=v''(s)\n",
    "\\end{cases}\n",
    "$$\n"
   ]
  },
  {
   "cell_type": "markdown",
   "metadata": {},
   "source": [
    "## Variational Formulation - linearized model\n",
    "\n",
    "We present below the linear model, assuming the fully linearized kinematics above. This model is valid for small loadings. Let us consider the case of a beam of length $L$, bending stiffness $EI$ and axial stiffness $ES$, which submitted to a distributed force per unit length $\\underline f(s)= f_u(s)\\underline e_1 +  f_v(s)\\underline e_2$.\n",
    " \n"
   ]
  },
  {
   "cell_type": "markdown",
   "metadata": {},
   "source": [
    "### Elastic energy\n",
    "\n",
    "Let us consider the case of beam of length $L$, bending stiffness $EI$ and axial stiffness $ES$\n",
    "\n",
    "We assume a linear constitutive model and that the strain energy density (per unit line) is quadratic in the deformation\n",
    "\n",
    "$$\n",
    "W(e,k) = \\dfrac{EI}{2} \\kappa^2 + \\dfrac{ES}{2} \\epsilon^2\n",
    "$$\n",
    "\n",
    "Hence the total elastic energy of the beam is given by the following functional \n",
    "\n",
    "$$\n",
    "\\mathcal{E}(u,v)=\\int_0^L\\dfrac{EI}{2} v''(s)^2 + \\dfrac{ES}{2} u'(s)^2\\,ds\n",
    "$$\n",
    "\n",
    "### Potential energy for conservative loading\n",
    "\n",
    "In the case of conservative loadings, the potential energy, say $\\mathcal{P}(u,v)$, is the difference between the elastic energy and the work of the external forces, say $\\mathcal{F}(u,v)$. \n",
    "\n",
    "$$\n",
    "\\mathcal{P}(u,v) = \\mathcal{E}(u,v) - \\mathcal{F}(u,v)\n",
    "$$\n",
    "\n",
    "Let us consider the case in which the end of the beam are clamped and the external forces are in the form of distributed forces per unit length $\\underline f(s)= f_u(s)\\underline e_1 +  f_v(s)\\underline e_2 $. Hence the work of external forces is \n",
    "\n",
    "$$\n",
    "\\mathcal{F}(u,v) = \\int_0^L f_u(s) \\,u(s)+f_v(s) \\,v(s)\\,ds\n",
    "$$\n",
    "\n",
    "If concentrated forces and/or moments are present, their work contribution should be added to the functional above.\n",
    "\n",
    "### Variational formulation\n",
    "\n",
    "Using the principle of the minimum of the potential energy, the equilibrium configurations are found looking for the stationarity point of the energy functional $\\mathcal{P}(u,v)$ among all admissible displacement field respecting the boundary conditions.\n",
    "\n",
    "In a first step, we will suppose that displacements and rotations are imposed at both ends, with\n",
    "\n",
    "$$\n",
    "\\begin{cases}\n",
    "u(0)= u_0, \\, v(0)=v_0, \\, v'(0)=\\theta_0,\\\\\n",
    "u(L)= u_L, \\, v(0)=v_L, \\, v'(0)=\\theta_L\n",
    "\\end{cases}\n",
    "$$\n",
    "\n",
    "Instead of solving this problem exactly (see the notes of 3A103), we adopt an approximate method, based on the discretisation using a Galerking approximation\n",
    "\n",
    "\n"
   ]
  },
  {
   "cell_type": "markdown",
   "metadata": {},
   "source": [
    "# Discretization\n",
    "\n",
    "## Galerkin approximation\n",
    "\n",
    "### Displacement\n",
    "\n",
    "We look for approximate solutions in the form of linear polynomials for the axial displacement and cubic polynomial for the transverse displacement:\n",
    "\n",
    "$$\n",
    "\\begin{cases}\n",
    "u(s) = c_0 +c_1 s\\\\\n",
    "v(s) = c_2 + c_3 s + c_4 s^2+ c_5 s^3\n",
    "\\end{cases}\n",
    "$$\n",
    "\n",
    "They can be defined in python using `sympy` (see https://github.com/jrjohansson/scientific-python-lectures/blob/master/Lecture-5-Sympy.ipynb and http://docs.sympy.org/ for an introduction to sympy). We declare the variable $s$ and the coefficients $c_i$'s as `sympy`\n",
    " symbols."
   ]
  },
  {
   "cell_type": "code",
   "execution_count": 4,
   "metadata": {},
   "outputs": [
    {
     "data": {
      "image/png": "[encoded data removed]",
      "text/latex": [
       "$$\\left[\\begin{matrix}c_{0} + c_{1} s\\\\c_{2} + c_{3} s + c_{4} s^{2} + c_{5} s^{3}\\end{matrix}\\right]$$"
      ],
      "text/plain": [
       "⎡        c₀ + c₁⋅s        ⎤\n",
       "⎢                         ⎥\n",
       "⎢                2       3⎥\n",
       "⎣c₂ + c₃⋅s + c₄⋅s  + c₅⋅s ⎦"
      ]
     },
     "execution_count": 4,
     "metadata": {},
     "output_type": "execute_result"
    }
   ],
   "source": [
    "import sympy as sp\n",
    "from sympy.interactive import printing\n",
    "printing.init_printing()\n",
    "s = sp.Symbol('s')\n",
    "c0, c1, c2, c3, c4, c5 = sp.symbols('c0, c1, c2, c3, c4, c5')\n",
    "u = c0 + c1*s\n",
    "v = c2 + c3*s + c4*s**2 + c5*s**3\n",
    "sp.Matrix([u, v])"
   ]
  },
  {
   "cell_type": "markdown",
   "metadata": {},
   "source": [
    "We denote by $q(s)=v'(s)$ the rotation field. To calculate it we can use the symbolic differentiation in sympy"
   ]
  },
  {
   "cell_type": "code",
   "execution_count": 5,
   "metadata": {},
   "outputs": [
    {
     "data": {
      "image/png": "[encoded data removed]",
      "text/latex": [
       "$$c_{3} + 2 c_{4} s + 3 c_{5} s^{2}$$"
      ],
      "text/plain": [
       "                    2\n",
       "c₃ + 2⋅c₄⋅s + 3⋅c₅⋅s "
      ]
     },
     "execution_count": 5,
     "metadata": {},
     "output_type": "execute_result"
    }
   ],
   "source": [
    "q = v.diff(s)\n",
    "q"
   ]
  },
  {
   "cell_type": "markdown",
   "metadata": {},
   "source": [
    "Let us now define the vector collecting the displacement and rotation at left and right ends of the beam"
   ]
  },
  {
   "cell_type": "code",
   "execution_count": 6,
   "metadata": {},
   "outputs": [
    {
     "data": {
      "image/png": "[encoded data removed]",
      "text/latex": [
       "$$\\left[\\begin{matrix}u_{0}\\\\v_{0}\\\\q_{0}\\\\u_{1}\\\\v_{1}\\\\q_{1}\\end{matrix}\\right]$$"
      ],
      "text/plain": [
       "⎡u₀⎤\n",
       "⎢  ⎥\n",
       "⎢v₀⎥\n",
       "⎢  ⎥\n",
       "⎢q₀⎥\n",
       "⎢  ⎥\n",
       "⎢u₁⎥\n",
       "⎢  ⎥\n",
       "⎢v₁⎥\n",
       "⎢  ⎥\n",
       "⎣q₁⎦"
      ]
     },
     "execution_count": 6,
     "metadata": {},
     "output_type": "execute_result"
    }
   ],
   "source": [
    "u0, v0, q0, u1, v1, q1 = sp.symbols('u0, v0, q0, u1, v1, q1')\n",
    "U = sp.Matrix([u0, v0, q0, u1, v1, q1])\n",
    "U"
   ]
  },
  {
   "cell_type": "markdown",
   "metadata": {},
   "source": [
    "The polynomial approximation allows us to express the displacement in any point as function of the end displacement $U$. To do it we have to resolve a linear system. We do it by using the capability of `sympy`. "
   ]
  },
  {
   "cell_type": "code",
   "execution_count": 7,
   "metadata": {},
   "outputs": [
    {
     "data": {
      "image/png": "[encoded data removed]",
      "text/latex": [
       "$$\\left[\\begin{matrix}u_{0} + \\frac{s}{L} \\left(- u_{0} + u_{1}\\right)\\\\q_{0} s + v_{0} + \\frac{s^{2}}{L^{2}} \\left(- L \\left(2 q_{0} + q_{1}\\right) - 3 v_{0} + 3 v_{1}\\right) + \\frac{s^{3}}{L^{3}} \\left(L \\left(q_{0} + q_{1}\\right) + 2 v_{0} - 2 v_{1}\\right)\\end{matrix}\\right]$$"
      ],
      "text/plain": [
       "⎡                                   s⋅(-u₀ + u₁)                              \n",
       "⎢                              u₀ + ────────────                              \n",
       "⎢                                        L                                    \n",
       "⎢                                                                             \n",
       "⎢             2                                   3                           \n",
       "⎢            s ⋅(-L⋅(2⋅q₀ + q₁) - 3⋅v₀ + 3⋅v₁)   s ⋅(L⋅(q₀ + q₁) + 2⋅v₀ - 2⋅v₁\n",
       "⎢q₀⋅s + v₀ + ───────────────────────────────── + ─────────────────────────────\n",
       "⎢                             2                                 3             \n",
       "⎣                            L                                 L              \n",
       "\n",
       " ⎤\n",
       " ⎥\n",
       " ⎥\n",
       " ⎥\n",
       " ⎥\n",
       ")⎥\n",
       "─⎥\n",
       " ⎥\n",
       " ⎦"
      ]
     },
     "execution_count": 7,
     "metadata": {},
     "output_type": "execute_result"
    }
   ],
   "source": [
    "L = sp.Symbol('L')\n",
    "solu = sp.solve([u.subs({s:0})-u0, u.subs({s:L})-u1], (c0,c1))\n",
    "solv = sp.solve([v.subs({s:0})-v0, q.subs({s:0})-q0, v.subs({s:L})-v1, q.subs({s:L})-q1], (c2,c3,c4,c5))\n",
    "u = u.subs(solu)\n",
    "v = v.subs(solv)\n",
    "sp.Matrix([u, v])"
   ]
  },
  {
   "cell_type": "markdown",
   "metadata": {},
   "source": [
    "We can then define the following shape functions $S_{ij}$ that gives the displacement field in the beam as a function of the displacement and rotations at the ends:\n",
    "$$\n",
    "\\begin{bmatrix}\n",
    "u(s)\\\\\n",
    "v(s)\n",
    "\\end{bmatrix}\n",
    "= \n",
    "S(s)U\n",
    "$$\n",
    "We can calculate the matrix S by using the derivative to extract the coefficients with respect to the components of $U$"
   ]
  },
  {
   "cell_type": "code",
   "execution_count": 8,
   "metadata": {},
   "outputs": [
    {
     "data": {
      "image/png": "[encoded data removed]",
      "text/latex": [
       "$$\\left[\\begin{matrix}1 - \\frac{s}{L} & 0 & 0 & \\frac{s}{L} & 0 & 0\\\\0 & 1 - \\frac{3 s^{2}}{L^{2}} + \\frac{2 s^{3}}{L^{3}} & s - \\frac{2 s^{2}}{L} + \\frac{s^{3}}{L^{2}} & 0 & \\frac{3 s^{2}}{L^{2}} - \\frac{2 s^{3}}{L^{3}} & - \\frac{s^{2}}{L} + \\frac{s^{3}}{L^{2}}\\end{matrix}\\right]$$"
      ],
      "text/plain": [
       "⎡    s                                  s                        ⎤\n",
       "⎢1 - ─         0               0        ─       0           0    ⎥\n",
       "⎢    L                                  L                        ⎥\n",
       "⎢                                                                ⎥\n",
       "⎢              2      3         2    3        2      3     2    3⎥\n",
       "⎢           3⋅s    2⋅s       2⋅s    s      3⋅s    2⋅s     s    s ⎥\n",
       "⎢  0    1 - ──── + ────  s - ──── + ──  0  ──── - ────  - ── + ──⎥\n",
       "⎢             2      3        L      2       2      3     L     2⎥\n",
       "⎣            L      L               L       L      L           L ⎦"
      ]
     },
     "execution_count": 8,
     "metadata": {},
     "output_type": "execute_result"
    }
   ],
   "source": [
    "S = sp.Matrix([[u.diff(Ui) for Ui in U],[v.diff(Ui) for Ui in U]])\n",
    "S"
   ]
  },
  {
   "cell_type": "markdown",
   "metadata": {},
   "source": [
    "We used above what is called a `python` *list comprehension*, which is a syntax to write table, for example"
   ]
  },
  {
   "cell_type": "code",
   "execution_count": 9,
   "metadata": {},
   "outputs": [
    {
     "data": {
      "image/png": "[encoded data removed]",
      "text/latex": [
       "$$\\left [ 9, \\quad 16, \\quad 25\\right ]$$"
      ],
      "text/plain": [
       "[9, 16, 25]"
      ]
     },
     "execution_count": 9,
     "metadata": {},
     "output_type": "execute_result"
    }
   ],
   "source": [
    "[i**2 for i in [3,4,5]]"
   ]
  },
  {
   "cell_type": "markdown",
   "metadata": {},
   "source": [
    "We can represent the basis functions using `matplotlib`"
   ]
  },
  {
   "cell_type": "code",
   "execution_count": 10,
   "metadata": {},
   "outputs": [
    {
     "data": {
      "text/plain": [
       "Text(0.5,1,'Shape function for the axial displacement u')"
      ]
     },
     "execution_count": 10,
     "metadata": {},
     "output_type": "execute_result"
    },
    {
     "data": {
      "image/png": "[encoded data removed]",
      "text/plain": [
       "<matplotlib.figure.Figure at 0x1101eccc0>"
      ]
     },
     "metadata": {},
     "output_type": "display_data"
    }
   ],
   "source": [
    "# discretisation of the s variable\n",
    "sn = np.linspace(0.,1.,100)\n",
    "# basis functions for u\n",
    "Sn = np.array([S[0,:].subs({s:si, L:1}) for si in sn])\n",
    "plt.plot(sn,Sn)\n",
    "#sp.plot(*S[0,:].subs({L:1}),(s,0,1))\n",
    "plt.xlabel('s')\n",
    "plt.ylabel('shape functions')\n",
    "plt.title('Shape function for the axial displacement u')"
   ]
  },
  {
   "cell_type": "code",
   "execution_count": 11,
   "metadata": {},
   "outputs": [
    {
     "data": {
      "text/plain": [
       "Text(0.5,1,'Shape function for the transverse displacement u')"
      ]
     },
     "execution_count": 11,
     "metadata": {},
     "output_type": "execute_result"
    },
    {
     "data": {
      "image/png": "[encoded data removed]",
      "text/plain": [
       "<matplotlib.figure.Figure at 0x10de040b8>"
      ]
     },
     "metadata": {},
     "output_type": "display_data"
    }
   ],
   "source": [
    "# basis functions for v\n",
    "Sn = np.array([S[1,:].subs({s:si, L:1}) for si in sn])\n",
    "plt.plot(sn,Sn)\n",
    "plt.xlabel('s')\n",
    "plt.ylabel('shape functions')\n",
    "plt.title('Shape function for the transverse displacement u')"
   ]
  },
  {
   "cell_type": "markdown",
   "metadata": {},
   "source": [
    "### Deformations\n",
    "Within the polynomial approximation above, the deformations are given by"
   ]
  },
  {
   "cell_type": "code",
   "execution_count": 12,
   "metadata": {},
   "outputs": [
    {
     "data": {
      "image/png": "[encoded data removed]",
      "text/latex": [
       "$$\\left [ \\frac{1}{L} \\left(- u_{0} + u_{1}\\right), \\quad \\frac{2}{L^{2}} \\left(- L \\left(2 q_{0} + q_{1}\\right) - 3 v_{0} + 3 v_{1} + \\frac{3 s}{L} \\left(L \\left(q_{0} + q_{1}\\right) + 2 v_{0} - 2 v_{1}\\right)\\right)\\right ]$$"
      ],
      "text/plain": [
       "⎡            ⎛                               3⋅s⋅(L⋅(q₀ + q₁) + 2⋅v₀ - 2⋅v₁)⎞⎤\n",
       "⎢          2⋅⎜-L⋅(2⋅q₀ + q₁) - 3⋅v₀ + 3⋅v₁ + ───────────────────────────────⎟⎥\n",
       "⎢-u₀ + u₁    ⎝                                              L               ⎠⎥\n",
       "⎢────────, ──────────────────────────────────────────────────────────────────⎥\n",
       "⎢   L                                       2                                ⎥\n",
       "⎣                                          L                                 ⎦"
      ]
     },
     "execution_count": 12,
     "metadata": {},
     "output_type": "execute_result"
    }
   ],
   "source": [
    "eps = u.diff(s)\n",
    "kappa = v.diff(s,2)\n",
    "[eps,kappa]"
   ]
  },
  {
   "cell_type": "markdown",
   "metadata": {},
   "source": [
    "We can define the following matrix giving the deformation in each point as a function of the displacements and rotations at the ends:\n",
    "$$\n",
    "\\begin{bmatrix}\n",
    "e(s)\\\\\n",
    "k(s)\n",
    "\\end{bmatrix}\n",
    "=\n",
    "B(s) \n",
    "U\n",
    "$$\n",
    "where"
   ]
  },
  {
   "cell_type": "code",
   "execution_count": 13,
   "metadata": {},
   "outputs": [
    {
     "data": {
      "image/png": "[encoded data removed]",
      "text/latex": [
       "$$\\left[\\begin{matrix}- \\frac{1}{L} & 0 & 0 & \\frac{1}{L} & 0 & 0\\\\0 & \\frac{2}{L^{2}} \\left(-3 + \\frac{6 s}{L}\\right) & \\frac{2}{L^{2}} \\left(- 2 L + 3 s\\right) & 0 & \\frac{2}{L^{2}} \\left(3 - \\frac{6 s}{L}\\right) & \\frac{2}{L^{2}} \\left(- L + 3 s\\right)\\end{matrix}\\right]$$"
      ],
      "text/plain": [
       "⎡-1                                 1                           ⎤\n",
       "⎢───       0              0         ─       0            0      ⎥\n",
       "⎢ L                                 L                           ⎥\n",
       "⎢                                                               ⎥\n",
       "⎢       ⎛     6⋅s⎞                       ⎛    6⋅s⎞              ⎥\n",
       "⎢     2⋅⎜-3 + ───⎟                     2⋅⎜3 - ───⎟              ⎥\n",
       "⎢       ⎝      L ⎠  2⋅(-2⋅L + 3⋅s)       ⎝     L ⎠  2⋅(-L + 3⋅s)⎥\n",
       "⎢ 0   ────────────  ──────────────  0  ───────────  ────────────⎥\n",
       "⎢           2              2                 2            2     ⎥\n",
       "⎣          L              L                 L            L      ⎦"
      ]
     },
     "execution_count": 13,
     "metadata": {},
     "output_type": "execute_result"
    }
   ],
   "source": [
    "B = sp.Matrix([[eps.diff(Ui) for Ui in U],[kappa.diff(Ui) for Ui in U]])\n",
    "B"
   ]
  },
  {
   "cell_type": "markdown",
   "metadata": {},
   "source": [
    "### Elastic energy and stiffness matrix\n",
    "We can write the extensional energy as\n",
    "$$\n",
    "\\mathcal E_{\\mathrm{ext}} =\\int_0^L\\dfrac{ES}{2} e(s)^2\\,ds = \\dfrac{1}{2}K^e_{\\mathrm{ext}} U\\cdot U\n",
    "$$\n",
    "where "
   ]
  },
  {
   "cell_type": "code",
   "execution_count": 14,
   "metadata": {},
   "outputs": [
    {
     "data": {
      "image/png": "[encoded data removed]",
      "text/latex": [
       "$$\\left[\\begin{matrix}\\frac{ES}{L} & 0 & 0 & - \\frac{ES}{L} & 0 & 0\\\\0 & 0 & 0 & 0 & 0 & 0\\\\0 & 0 & 0 & 0 & 0 & 0\\\\- \\frac{ES}{L} & 0 & 0 & \\frac{ES}{L} & 0 & 0\\\\0 & 0 & 0 & 0 & 0 & 0\\\\0 & 0 & 0 & 0 & 0 & 0\\end{matrix}\\right]$$"
      ],
      "text/plain": [
       "⎡ ES         -ES       ⎤\n",
       "⎢ ──   0  0  ────  0  0⎥\n",
       "⎢ L           L        ⎥\n",
       "⎢                      ⎥\n",
       "⎢ 0    0  0   0    0  0⎥\n",
       "⎢                      ⎥\n",
       "⎢ 0    0  0   0    0  0⎥\n",
       "⎢                      ⎥\n",
       "⎢-ES          ES       ⎥\n",
       "⎢────  0  0   ──   0  0⎥\n",
       "⎢ L           L        ⎥\n",
       "⎢                      ⎥\n",
       "⎢ 0    0  0   0    0  0⎥\n",
       "⎢                      ⎥\n",
       "⎣ 0    0  0   0    0  0⎦"
      ]
     },
     "execution_count": 14,
     "metadata": {},
     "output_type": "execute_result"
    }
   ],
   "source": [
    "ES = sp.Symbol('ES')\n",
    "Ke_ext = ES*sp.integrate(B[0,:].transpose()*B[0,:],(s,0,L))\n",
    "Ke_ext "
   ]
  },
  {
   "cell_type": "markdown",
   "metadata": {},
   "source": [
    "Similarly for the bending energy\n",
    "$$\n",
    "\\mathcal E_{\\mathrm{bend}} = \\int_0^L\\dfrac{EI}{2} v''(s)^2 = \\dfrac{1}{2}K^e_{\\mathrm{ben}} U\\cdot U\n",
    "$$\n",
    "where"
   ]
  },
  {
   "cell_type": "code",
   "execution_count": 15,
   "metadata": {
    "scrolled": true
   },
   "outputs": [
    {
     "data": {
      "image/png": "[encoded data removed]",
      "text/latex": [
       "$$\\left[\\begin{matrix}0 & 0 & 0 & 0 & 0 & 0\\\\0 & \\frac{12 EI}{L^{3}} & \\frac{6 EI}{L^{2}} & 0 & - \\frac{12 EI}{L^{3}} & \\frac{6 EI}{L^{2}}\\\\0 & \\frac{6 EI}{L^{2}} & \\frac{4 EI}{L} & 0 & - \\frac{6 EI}{L^{2}} & \\frac{2 EI}{L}\\\\0 & 0 & 0 & 0 & 0 & 0\\\\0 & - \\frac{12 EI}{L^{3}} & - \\frac{6 EI}{L^{2}} & 0 & \\frac{12 EI}{L^{3}} & - \\frac{6 EI}{L^{2}}\\\\0 & \\frac{6 EI}{L^{2}} & \\frac{2 EI}{L} & 0 & - \\frac{6 EI}{L^{2}} & \\frac{4 EI}{L}\\end{matrix}\\right]$$"
      ],
      "text/plain": [
       "⎡0     0       0     0     0       0   ⎤\n",
       "⎢                                      ⎥\n",
       "⎢    12⋅EI    6⋅EI      -12⋅EI    6⋅EI ⎥\n",
       "⎢0   ─────    ────   0  ───────   ──── ⎥\n",
       "⎢       3       2           3       2  ⎥\n",
       "⎢      L       L           L       L   ⎥\n",
       "⎢                                      ⎥\n",
       "⎢    6⋅EI     4⋅EI      -6⋅EI     2⋅EI ⎥\n",
       "⎢0   ────     ────   0  ──────    ──── ⎥\n",
       "⎢      2       L           2       L   ⎥\n",
       "⎢     L                   L            ⎥\n",
       "⎢                                      ⎥\n",
       "⎢0     0       0     0     0       0   ⎥\n",
       "⎢                                      ⎥\n",
       "⎢   -12⋅EI   -6⋅EI       12⋅EI   -6⋅EI ⎥\n",
       "⎢0  ───────  ──────  0   ─────   ──────⎥\n",
       "⎢       3       2           3       2  ⎥\n",
       "⎢      L       L           L       L   ⎥\n",
       "⎢                                      ⎥\n",
       "⎢    6⋅EI     2⋅EI      -6⋅EI     4⋅EI ⎥\n",
       "⎢0   ────     ────   0  ──────    ──── ⎥\n",
       "⎢      2       L           2       L   ⎥\n",
       "⎣     L                   L            ⎦"
      ]
     },
     "execution_count": 15,
     "metadata": {},
     "output_type": "execute_result"
    }
   ],
   "source": [
    "EI = sp.Symbol('EI')\n",
    "Ke_bend = EI*sp.integrate(B[1,:].transpose()*B[1,:],(s,0,L))\n",
    "Ke_bend"
   ]
  },
  {
   "cell_type": "markdown",
   "metadata": {},
   "source": [
    "Hence the total elastic energy of the beam is given by\n",
    "$$\n",
    "\\mathcal E   = \\dfrac{1}{2}K_e U\\cdot U\n",
    "$$\n",
    "where $K_e$ is called *stiffness matrix*"
   ]
  },
  {
   "cell_type": "code",
   "execution_count": 16,
   "metadata": {},
   "outputs": [
    {
     "data": {
      "image/png": "[encoded data removed]",
      "text/latex": [
       "$$\\left[\\begin{matrix}\\frac{ES}{L} & 0 & 0 & - \\frac{ES}{L} & 0 & 0\\\\0 & \\frac{12 EI}{L^{3}} & \\frac{6 EI}{L^{2}} & 0 & - \\frac{12 EI}{L^{3}} & \\frac{6 EI}{L^{2}}\\\\0 & \\frac{6 EI}{L^{2}} & \\frac{4 EI}{L} & 0 & - \\frac{6 EI}{L^{2}} & \\frac{2 EI}{L}\\\\- \\frac{ES}{L} & 0 & 0 & \\frac{ES}{L} & 0 & 0\\\\0 & - \\frac{12 EI}{L^{3}} & - \\frac{6 EI}{L^{2}} & 0 & \\frac{12 EI}{L^{3}} & - \\frac{6 EI}{L^{2}}\\\\0 & \\frac{6 EI}{L^{2}} & \\frac{2 EI}{L} & 0 & - \\frac{6 EI}{L^{2}} & \\frac{4 EI}{L}\\end{matrix}\\right]$$"
      ],
      "text/plain": [
       "⎡ ES                    -ES                  ⎤\n",
       "⎢ ──      0       0     ────     0       0   ⎥\n",
       "⎢ L                      L                   ⎥\n",
       "⎢                                            ⎥\n",
       "⎢       12⋅EI    6⋅EI         -12⋅EI    6⋅EI ⎥\n",
       "⎢ 0     ─────    ────    0    ───────   ──── ⎥\n",
       "⎢          3       2              3       2  ⎥\n",
       "⎢         L       L              L       L   ⎥\n",
       "⎢                                            ⎥\n",
       "⎢       6⋅EI     4⋅EI         -6⋅EI     2⋅EI ⎥\n",
       "⎢ 0     ────     ────    0    ──────    ──── ⎥\n",
       "⎢         2       L              2       L   ⎥\n",
       "⎢        L                      L            ⎥\n",
       "⎢                                            ⎥\n",
       "⎢-ES                     ES                  ⎥\n",
       "⎢────     0       0      ──      0       0   ⎥\n",
       "⎢ L                      L                   ⎥\n",
       "⎢                                            ⎥\n",
       "⎢      -12⋅EI   -6⋅EI          12⋅EI   -6⋅EI ⎥\n",
       "⎢ 0    ───────  ──────   0     ─────   ──────⎥\n",
       "⎢          3       2              3       2  ⎥\n",
       "⎢         L       L              L       L   ⎥\n",
       "⎢                                            ⎥\n",
       "⎢       6⋅EI     2⋅EI         -6⋅EI     4⋅EI ⎥\n",
       "⎢ 0     ────     ────    0    ──────    ──── ⎥\n",
       "⎢         2       L              2       L   ⎥\n",
       "⎣        L                      L            ⎦"
      ]
     },
     "execution_count": 16,
     "metadata": {},
     "output_type": "execute_result"
    }
   ],
   "source": [
    "Ke = Ke_ext + Ke_bend\n",
    "Ke"
   ]
  },
  {
   "cell_type": "markdown",
   "metadata": {},
   "source": [
    "### External force vector\n",
    "Using the polynomial approximation for the displacement, the work of the external forces gives\n",
    "$$\n",
    "\\mathcal{F} = \\int_0^L f_u(s) \\,u(s)+f_v(s) \\,v(s)\\,ds = F^{(e)}\\cdot U\n",
    "$$\n",
    "where \n",
    "$$\n",
    "F^{(e)}_i = \\int_0^L f_u(s) \\,S_{0i}(s)+f_v(s) \\,S_{1i}(s)\\,ds \n",
    "$$\n",
    "$S$ Being the matrix of shape function define above. \n",
    "\n",
    "For example, for the case of a beam of mass density per unit line $\\rho S$  submitted to its own weight"
   ]
  },
  {
   "cell_type": "code",
   "execution_count": 17,
   "metadata": {},
   "outputs": [],
   "source": [
    "p = sp.Symbol(\"p\")\n",
    "f_u = 0\n",
    "f_v = - p"
   ]
  },
  {
   "cell_type": "markdown",
   "metadata": {},
   "source": [
    "where $p=\\rho S\\,g$ and "
   ]
  },
  {
   "cell_type": "code",
   "execution_count": 18,
   "metadata": {},
   "outputs": [
    {
     "data": {
      "image/png": "[encoded data removed]",
      "text/latex": [
       "$$\\left[\\begin{matrix}0\\\\- \\frac{L p}{2}\\\\- \\frac{L^{2} p}{12}\\\\0\\\\- \\frac{L p}{2}\\\\\\frac{L^{2} p}{12}\\end{matrix}\\right]$$"
      ],
      "text/plain": [
       "⎡  0   ⎤\n",
       "⎢      ⎥\n",
       "⎢-L⋅p  ⎥\n",
       "⎢───── ⎥\n",
       "⎢  2   ⎥\n",
       "⎢      ⎥\n",
       "⎢  2   ⎥\n",
       "⎢-L ⋅p ⎥\n",
       "⎢──────⎥\n",
       "⎢  12  ⎥\n",
       "⎢      ⎥\n",
       "⎢  0   ⎥\n",
       "⎢      ⎥\n",
       "⎢-L⋅p  ⎥\n",
       "⎢───── ⎥\n",
       "⎢  2   ⎥\n",
       "⎢      ⎥\n",
       "⎢  2   ⎥\n",
       "⎢ L ⋅p ⎥\n",
       "⎢ ──── ⎥\n",
       "⎣  12  ⎦"
      ]
     },
     "execution_count": 18,
     "metadata": {},
     "output_type": "execute_result"
    }
   ],
   "source": [
    "Fe = sp.Matrix([sp.integrate(f_u *S[0,i]+f_v*S[1,i],(s,0,L)) for i in range(6)])\n",
    "Fe"
   ]
  },
  {
   "cell_type": "markdown",
   "metadata": {},
   "source": [
    "### Numerical `numpy` array version\n",
    "For the following developments, it is convenient to work with numerical quantities. We start using the  `python` package for *numerical linear algebra*, `numpy`"
   ]
  },
  {
   "cell_type": "code",
   "execution_count": 19,
   "metadata": {},
   "outputs": [
    {
     "data": {
      "text/plain": [
       "(array([[100.000000000000, 0, 0, -100.000000000000, 0, 0],\n",
       "        [0, 12.0000000000000, 6.00000000000000, 0, -12.0000000000000,\n",
       "         6.00000000000000],\n",
       "        [0, 6.00000000000000, 4.00000000000000, 0, -6.00000000000000,\n",
       "         2.00000000000000],\n",
       "        [-100.000000000000, 0, 0, 100.000000000000, 0, 0],\n",
       "        [0, -12.0000000000000, -6.00000000000000, 0, 12.0000000000000,\n",
       "         -6.00000000000000],\n",
       "        [0, 6.00000000000000, 2.00000000000000, 0, -6.00000000000000,\n",
       "         4.00000000000000]], dtype=object), array([[0],\n",
       "        [-0.500000000000000],\n",
       "        [-0.0833333333333333],\n",
       "        [0],\n",
       "        [-0.500000000000000],\n",
       "        [0.0833333333333333]], dtype=object))"
      ]
     },
     "execution_count": 19,
     "metadata": {},
     "output_type": "execute_result"
    }
   ],
   "source": [
    "import numpy as np\n",
    "Ken = np.array(Ke.subs({EI:1., ES:100., L:1.}))\n",
    "Fen = np.array(Fe.subs({L:1., p:1.}))\n",
    "Ken,Fen"
   ]
  },
  {
   "cell_type": "markdown",
   "metadata": {},
   "source": [
    "Or, if we want to print it out nicely"
   ]
  },
  {
   "cell_type": "code",
   "execution_count": 20,
   "metadata": {
    "scrolled": false
   },
   "outputs": [
    {
     "data": {
      "image/png": "[encoded data removed]",
      "text/latex": [
       "$$\\left ( \\left[\\begin{matrix}100.0 & 0 & 0 & -100.0 & 0 & 0\\\\0 & 12.0 & 6.0 & 0 & -12.0 & 6.0\\\\0 & 6.0 & 4.0 & 0 & -6.0 & 2.0\\\\-100.0 & 0 & 0 & 100.0 & 0 & 0\\\\0 & -12.0 & -6.0 & 0 & 12.0 & -6.0\\\\0 & 6.0 & 2.0 & 0 & -6.0 & 4.0\\end{matrix}\\right], \\quad \\left[\\begin{matrix}0\\\\-0.5\\\\-0.0833333333333333\\\\0\\\\-0.5\\\\0.0833333333333333\\end{matrix}\\right]\\right )$$"
      ],
      "text/plain": [
       "⎛⎡100.0     0     0    -100.0    0     0  ⎤  ⎡         0         ⎤⎞\n",
       "⎜⎢                                        ⎥  ⎢                   ⎥⎟\n",
       "⎜⎢  0     12.0   6.0     0     -12.0  6.0 ⎥  ⎢       -0.5        ⎥⎟\n",
       "⎜⎢                                        ⎥  ⎢                   ⎥⎟\n",
       "⎜⎢  0      6.0   4.0     0     -6.0   2.0 ⎥  ⎢-0.0833333333333333⎥⎟\n",
       "⎜⎢                                        ⎥, ⎢                   ⎥⎟\n",
       "⎜⎢-100.0    0     0    100.0     0     0  ⎥  ⎢         0         ⎥⎟\n",
       "⎜⎢                                        ⎥  ⎢                   ⎥⎟\n",
       "⎜⎢  0     -12.0  -6.0    0     12.0   -6.0⎥  ⎢       -0.5        ⎥⎟\n",
       "⎜⎢                                        ⎥  ⎢                   ⎥⎟\n",
       "⎝⎣  0      6.0   2.0     0     -6.0   4.0 ⎦  ⎣0.0833333333333333 ⎦⎠"
      ]
     },
     "execution_count": 20,
     "metadata": {},
     "output_type": "execute_result"
    }
   ],
   "source": [
    "sp.Matrix(Ken),sp.Matrix(Fen)"
   ]
  },
  {
   "cell_type": "markdown",
   "metadata": {},
   "source": [
    "# Assembling several beam elements\n",
    "\n",
    "## Elements and nodes\n",
    "\n",
    "Consider now a beam and let us partition it in $n_{e}$ segments, that we will call **elements**, separated by $n$ **nodes** with coordinates $\\{(x_I,y_I)\\}_{I=1}^{n}$. "
   ]
  },
  {
   "cell_type": "markdown",
   "metadata": {},
   "source": [
    "We can define nodes as points"
   ]
  },
  {
   "cell_type": "code",
   "execution_count": 21,
   "metadata": {},
   "outputs": [
    {
     "data": {
      "text/plain": [
       "array([[ 0.  ,  0.  ],\n",
       "       [ 0.25,  0.  ],\n",
       "       [ 0.5 ,  0.  ],\n",
       "       [ 0.75,  0.  ],\n",
       "       [ 1.  ,  0.  ]])"
      ]
     },
     "execution_count": 21,
     "metadata": {},
     "output_type": "execute_result"
    }
   ],
   "source": [
    "n_elements = 4\n",
    "xnodes = np.linspace(0,1,n_elements + 1)\n",
    "ynodes = np.linspace(0,0,n_elements + 1)\n",
    "nodes = np.array([xnodes,ynodes]).transpose()\n",
    "n_nodes = xnodes.size\n",
    "nodes"
   ]
  },
  {
   "cell_type": "markdown",
   "metadata": {},
   "source": [
    "And elements as lists of nodes"
   ]
  },
  {
   "cell_type": "code",
   "execution_count": 22,
   "metadata": {},
   "outputs": [
    {
     "data": {
      "text/plain": [
       "array([[0, 1],\n",
       "       [1, 2],\n",
       "       [2, 3],\n",
       "       [3, 4]])"
      ]
     },
     "execution_count": 22,
     "metadata": {},
     "output_type": "execute_result"
    }
   ],
   "source": [
    "elements = np.array([[i,i+1] for i in range(n_elements)])\n",
    "elements"
   ]
  },
  {
   "cell_type": "markdown",
   "metadata": {},
   "source": [
    "We show below how to plot the elements and the nodes in `python` using `matplotlib` (http://matplotlib.org) "
   ]
  },
  {
   "cell_type": "code",
   "execution_count": 23,
   "metadata": {},
   "outputs": [
    {
     "data": {
      "text/plain": [
       "[<matplotlib.lines.Line2D at 0x1104fc9e8>]"
      ]
     },
     "execution_count": 23,
     "metadata": {},
     "output_type": "execute_result"
    },
    {
     "data": {
      "image/png": "[encoded data removed]",
      "text/plain": [
       "<matplotlib.figure.Figure at 0x10c180860>"
      ]
     },
     "metadata": {},
     "output_type": "display_data"
    }
   ],
   "source": [
    "import matplotlib.pyplot as plt\n",
    "%matplotlib inline \n",
    "plt.plot(xnodes,ynodes,'o-')"
   ]
  },
  {
   "cell_type": "markdown",
   "metadata": {},
   "source": [
    "Or you can add labels"
   ]
  },
  {
   "cell_type": "code",
   "execution_count": 24,
   "metadata": {},
   "outputs": [
    {
     "data": {
      "image/png": "[encoded data removed]",
      "text/latex": [
       "$$\\left ( -0.05, \\quad 0.05\\right )$$"
      ],
      "text/plain": [
       "(-0.05, 0.05)"
      ]
     },
     "execution_count": 24,
     "metadata": {},
     "output_type": "execute_result"
    },
    {
     "data": {
      "image/png": "[encoded data removed]",
      "text/plain": [
       "<matplotlib.figure.Figure at 0x11051f4e0>"
      ]
     },
     "metadata": {},
     "output_type": "display_data"
    }
   ],
   "source": [
    "#with plt.xkcd():\n",
    "fig, ax = plt.subplots()\n",
    "ax.plot(xnodes,ynodes,'o-',lw=2, color='black', ms=10)\n",
    "for i in range(n_nodes):\n",
    "    ax.text(xnodes[i], -.02, np.array([i,i+1,i+2]))\n",
    "    ax.text(xnodes[i], .01, i, color = 'b')\n",
    "for e in range(n_elements):\n",
    "    ax.text(xnodes[e]+(xnodes[e+1]-xnodes[e])/2., .02, str(e), bbox=dict(facecolor='red'))\n",
    "ax.get_xaxis().set_visible(False)\n",
    "ax.get_yaxis().set_visible(False)\n",
    "ax.set_title(\"Elements, nodes, and dofs\")\n",
    "ax.set_xlim(-0.2, 1.2)\n",
    "ax.set_ylim(-0.05, 0.05)\n"
   ]
  },
  {
   "cell_type": "markdown",
   "metadata": {},
   "source": [
    "\n",
    "## Local and global degrees of freedoms (dofs)\n",
    "Let us discretise each beam segment with the same polynomial function as above. \n",
    "We collect the displacements and rotations of all the nodes in the vector of the *global degrees of freedom*\n",
    "$$\n",
    "U=\n",
    "\\begin{bmatrix}\n",
    "u_1&v_1&q_1&u_2&v_2&q_2,\\ldots,u_n&v_n&q_n\n",
    "\\end{bmatrix}^T\n",
    "$$\n",
    "\n",
    "\n",
    "For a generic element we can express the displacement in each element as the displacement and rotation of its end nodes\n",
    "$$\n",
    " U^{(e)}=\n",
    "\\begin{bmatrix}\n",
    "\\tilde u_0&\\tilde v_0& \\tilde q_0& \\tilde u_1& \\tilde v_1& \\tilde q_1\n",
    "\\end{bmatrix}^T\n",
    "$$\n",
    "which are the *local degrees of freedom*. We look how to define the correspondence between the components of the two vectors.\n",
    "\n",
    "## Dof map\n",
    "\n",
    "We call *dofmap* the function associating an element number $e$ and the local index of a component of $U^{(e)}$, say  $i_\\textrm{local}$, the  global index of the corresponding component of $U$, say $i$:\n",
    "$$\n",
    "i = \\textrm{dofmap}(e,i_\\textrm{local})\n",
    "$$\n",
    "such that \n",
    "$$\n",
    "U_i = U^{(e)}_{i_\\textrm{local}}\n",
    "$$\n",
    "For the case of the beam above, one can easily check that\n",
    "$\n",
    "i = 3*e + i_\\textrm{local}\n",
    "$"
   ]
  },
  {
   "cell_type": "code",
   "execution_count": 25,
   "metadata": {},
   "outputs": [],
   "source": [
    "def dof_map(e, i_local):\n",
    "    return 3*(e)+i_local"
   ]
  },
  {
   "cell_type": "markdown",
   "metadata": {},
   "source": [
    "For example, the global indices of the dof of the element $e=2$ are (`python` indices start from $0$)"
   ]
  },
  {
   "cell_type": "code",
   "execution_count": 26,
   "metadata": {},
   "outputs": [
    {
     "data": {
      "image/png": "[encoded data removed]",
      "text/latex": [
       "$$\\left [ 6, \\quad 7, \\quad 8, \\quad 9, \\quad 10, \\quad 11\\right ]$$"
      ],
      "text/plain": [
       "[6, 7, 8, 9, 10, 11]"
      ]
     },
     "execution_count": 26,
     "metadata": {},
     "output_type": "execute_result"
    }
   ],
   "source": [
    "def dof_map_e(e):\n",
    "    return [dof_map(e, i_local) for  i_local in range(6)]\n",
    "dof_map_e(2)"
   ]
  },
  {
   "cell_type": "markdown",
   "metadata": {},
   "source": [
    "## Elastic energy, local and global stiffness matrices\n",
    "\n",
    "We can write the elastic energy of the beam in the following form\n",
    "\n",
    "$$\n",
    "\\mathcal E = \\sum_{el=1}\\int_{el}\\dfrac{ES}{2}e^2+\\dfrac{EI}{2}k^2ds=\\sum_{el=1}\\dfrac{1}{2}K_{e} U^{(e)}\\cdot U^{(e)}\n",
    "$$\n",
    "\n",
    "where $K^{e}$ is the **local stifness matrix** of the element $e$\n",
    "\n",
    "We define the **global stiffness matrix** $K$ the matrix such that\n",
    "$$\n",
    "\\mathcal E = \\sum_{el=1}\\dfrac{1}{2}K^{(e)} U^{(e)}\\cdot U^{(e)} = \\dfrac{1}{2}K U\\cdot U\n",
    "$$\n",
    "\n",
    "Here $K^{(e)}$ is $6\\times 6$, whilst $K$ is $3 n\\times 3 n$."
   ]
  },
  {
   "cell_type": "markdown",
   "metadata": {},
   "source": [
    "The global stiffness is obained as follows"
   ]
  },
  {
   "cell_type": "code",
   "execution_count": 27,
   "metadata": {},
   "outputs": [
    {
     "data": {
      "image/png": "[encoded data removed]",
      "text/latex": [
       "$$\\left[\\begin{matrix}100.0 & 0 & 0 & -100.0 & 0 & 0\\\\0 & 12.0 & 6.0 & 0 & -12.0 & 6.0\\\\0 & 6.0 & 4.0 & 0 & -6.0 & 2.0\\\\-100.0 & 0 & 0 & 100.0 & 0 & 0\\\\0 & -12.0 & -6.0 & 0 & 12.0 & -6.0\\\\0 & 6.0 & 2.0 & 0 & -6.0 & 4.0\\end{matrix}\\right]$$"
      ],
      "text/plain": [
       "⎡100.0     0     0    -100.0    0     0  ⎤\n",
       "⎢                                        ⎥\n",
       "⎢  0     12.0   6.0     0     -12.0  6.0 ⎥\n",
       "⎢                                        ⎥\n",
       "⎢  0      6.0   4.0     0     -6.0   2.0 ⎥\n",
       "⎢                                        ⎥\n",
       "⎢-100.0    0     0    100.0     0     0  ⎥\n",
       "⎢                                        ⎥\n",
       "⎢  0     -12.0  -6.0    0     12.0   -6.0⎥\n",
       "⎢                                        ⎥\n",
       "⎣  0      6.0   2.0     0     -6.0   4.0 ⎦"
      ]
     },
     "execution_count": 27,
     "metadata": {},
     "output_type": "execute_result"
    }
   ],
   "source": [
    "sp.Matrix(Ken)"
   ]
  },
  {
   "cell_type": "code",
   "execution_count": 28,
   "metadata": {},
   "outputs": [
    {
     "data": {
      "image/png": "[encoded data removed]",
      "text/latex": [
       "$$\\left[\\begin{array}{ccccccccccccccc}100.0 & 0.0 & 0.0 & -100.0 & 0.0 & 0.0 & 0.0 & 0.0 & 0.0 & 0.0 & 0.0 & 0.0 & 0.0 & 0.0 & 0.0\\\\0.0 & 12.0 & 6.0 & 0.0 & -12.0 & 6.0 & 0.0 & 0.0 & 0.0 & 0.0 & 0.0 & 0.0 & 0.0 & 0.0 & 0.0\\\\0.0 & 6.0 & 4.0 & 0.0 & -6.0 & 2.0 & 0.0 & 0.0 & 0.0 & 0.0 & 0.0 & 0.0 & 0.0 & 0.0 & 0.0\\\\-100.0 & 0.0 & 0.0 & 200.0 & 0.0 & 0.0 & -100.0 & 0.0 & 0.0 & 0.0 & 0.0 & 0.0 & 0.0 & 0.0 & 0.0\\\\0.0 & -12.0 & -6.0 & 0.0 & 24.0 & 0.0 & 0.0 & -12.0 & 6.0 & 0.0 & 0.0 & 0.0 & 0.0 & 0.0 & 0.0\\\\0.0 & 6.0 & 2.0 & 0.0 & 0.0 & 8.0 & 0.0 & -6.0 & 2.0 & 0.0 & 0.0 & 0.0 & 0.0 & 0.0 & 0.0\\\\0.0 & 0.0 & 0.0 & -100.0 & 0.0 & 0.0 & 200.0 & 0.0 & 0.0 & -100.0 & 0.0 & 0.0 & 0.0 & 0.0 & 0.0\\\\0.0 & 0.0 & 0.0 & 0.0 & -12.0 & -6.0 & 0.0 & 24.0 & 0.0 & 0.0 & -12.0 & 6.0 & 0.0 & 0.0 & 0.0\\\\0.0 & 0.0 & 0.0 & 0.0 & 6.0 & 2.0 & 0.0 & 0.0 & 8.0 & 0.0 & -6.0 & 2.0 & 0.0 & 0.0 & 0.0\\\\0.0 & 0.0 & 0.0 & 0.0 & 0.0 & 0.0 & -100.0 & 0.0 & 0.0 & 200.0 & 0.0 & 0.0 & -100.0 & 0.0 & 0.0\\\\0.0 & 0.0 & 0.0 & 0.0 & 0.0 & 0.0 & 0.0 & -12.0 & -6.0 & 0.0 & 24.0 & 0.0 & 0.0 & -12.0 & 6.0\\\\0.0 & 0.0 & 0.0 & 0.0 & 0.0 & 0.0 & 0.0 & 6.0 & 2.0 & 0.0 & 0.0 & 8.0 & 0.0 & -6.0 & 2.0\\\\0.0 & 0.0 & 0.0 & 0.0 & 0.0 & 0.0 & 0.0 & 0.0 & 0.0 & -100.0 & 0.0 & 0.0 & 100.0 & 0.0 & 0.0\\\\0.0 & 0.0 & 0.0 & 0.0 & 0.0 & 0.0 & 0.0 & 0.0 & 0.0 & 0.0 & -12.0 & -6.0 & 0.0 & 12.0 & -6.0\\\\0.0 & 0.0 & 0.0 & 0.0 & 0.0 & 0.0 & 0.0 & 0.0 & 0.0 & 0.0 & 6.0 & 2.0 & 0.0 & -6.0 & 4.0\\end{array}\\right]$$"
      ],
      "text/plain": [
       "⎡100.0    0.0   0.0   -100.0   0.0   0.0    0.0     0.0   0.0    0.0     0.0  \n",
       "⎢                                                                             \n",
       "⎢ 0.0    12.0   6.0    0.0    -12.0  6.0    0.0     0.0   0.0    0.0     0.0  \n",
       "⎢                                                                             \n",
       "⎢ 0.0     6.0   4.0    0.0    -6.0   2.0    0.0     0.0   0.0    0.0     0.0  \n",
       "⎢                                                                             \n",
       "⎢-100.0   0.0   0.0   200.0    0.0   0.0   -100.0   0.0   0.0    0.0     0.0  \n",
       "⎢                                                                             \n",
       "⎢ 0.0    -12.0  -6.0   0.0    24.0   0.0    0.0    -12.0  6.0    0.0     0.0  \n",
       "⎢                                                                             \n",
       "⎢ 0.0     6.0   2.0    0.0     0.0   8.0    0.0    -6.0   2.0    0.0     0.0  \n",
       "⎢                                                                             \n",
       "⎢ 0.0     0.0   0.0   -100.0   0.0   0.0   200.0    0.0   0.0   -100.0   0.0  \n",
       "⎢                                                                             \n",
       "⎢ 0.0     0.0   0.0    0.0    -12.0  -6.0   0.0    24.0   0.0    0.0    -12.0 \n",
       "⎢                                                                             \n",
       "⎢ 0.0     0.0   0.0    0.0     6.0   2.0    0.0     0.0   8.0    0.0    -6.0  \n",
       "⎢                                                                             \n",
       "⎢ 0.0     0.0   0.0    0.0     0.0   0.0   -100.0   0.0   0.0   200.0    0.0  \n",
       "⎢                                                                             \n",
       "⎢ 0.0     0.0   0.0    0.0     0.0   0.0    0.0    -12.0  -6.0   0.0    24.0  \n",
       "⎢                                                                             \n",
       "⎢ 0.0     0.0   0.0    0.0     0.0   0.0    0.0     6.0   2.0    0.0     0.0  \n",
       "⎢                                                                             \n",
       "⎢ 0.0     0.0   0.0    0.0     0.0   0.0    0.0     0.0   0.0   -100.0   0.0  \n",
       "⎢                                                                             \n",
       "⎢ 0.0     0.0   0.0    0.0     0.0   0.0    0.0     0.0   0.0    0.0    -12.0 \n",
       "⎢                                                                             \n",
       "⎣ 0.0     0.0   0.0    0.0     0.0   0.0    0.0     0.0   0.0    0.0     6.0  \n",
       "\n",
       " 0.0    0.0     0.0   0.0 ⎤\n",
       "                          ⎥\n",
       " 0.0    0.0     0.0   0.0 ⎥\n",
       "                          ⎥\n",
       " 0.0    0.0     0.0   0.0 ⎥\n",
       "                          ⎥\n",
       " 0.0    0.0     0.0   0.0 ⎥\n",
       "                          ⎥\n",
       " 0.0    0.0     0.0   0.0 ⎥\n",
       "                          ⎥\n",
       " 0.0    0.0     0.0   0.0 ⎥\n",
       "                          ⎥\n",
       " 0.0    0.0     0.0   0.0 ⎥\n",
       "                          ⎥\n",
       " 6.0    0.0     0.0   0.0 ⎥\n",
       "                          ⎥\n",
       " 2.0    0.0     0.0   0.0 ⎥\n",
       "                          ⎥\n",
       " 0.0   -100.0   0.0   0.0 ⎥\n",
       "                          ⎥\n",
       " 0.0    0.0    -12.0  6.0 ⎥\n",
       "                          ⎥\n",
       " 8.0    0.0    -6.0   2.0 ⎥\n",
       "                          ⎥\n",
       " 0.0   100.0    0.0   0.0 ⎥\n",
       "                          ⎥\n",
       " -6.0   0.0    12.0   -6.0⎥\n",
       "                          ⎥\n",
       " 2.0    0.0    -6.0   4.0 ⎦"
      ]
     },
     "execution_count": 28,
     "metadata": {},
     "output_type": "execute_result"
    }
   ],
   "source": [
    "K = np.zeros([3*n_nodes,3*n_nodes])\n",
    "for e in range(n_elements):\n",
    "    for i_local in range(6):\n",
    "        for j_local in range(6):\n",
    "            K[dof_map(e, i_local),dof_map(e, j_local)] += Ken[i_local,j_local]     \n",
    "# A more efficient way to do the same:\n",
    "# for e in range(n_elements):\n",
    "#    indx = dof_map_e(e)\n",
    "#    K[np.ix_(indx,indx)] = K[np.ix_(indx,indx)] + Ken    \n",
    "sp.Matrix(K)"
   ]
  },
  {
   "cell_type": "markdown",
   "metadata": {},
   "source": [
    "We can also represent it graphically"
   ]
  },
  {
   "cell_type": "code",
   "execution_count": 29,
   "metadata": {},
   "outputs": [
    {
     "data": {
      "text/plain": [
       "<matplotlib.colorbar.Colorbar at 0x1104942b0>"
      ]
     },
     "execution_count": 29,
     "metadata": {},
     "output_type": "execute_result"
    },
    {
     "data": {
      "image/png": "[encoded data removed]",
      "text/plain": [
       "<matplotlib.figure.Figure at 0x110494160>"
      ]
     },
     "metadata": {},
     "output_type": "display_data"
    }
   ],
   "source": [
    "plt.matshow(K, interpolation='none')\n",
    "plt.colorbar()"
   ]
  },
  {
   "cell_type": "markdown",
   "metadata": {},
   "source": [
    "## Work of external forces and global force vector"
   ]
  },
  {
   "cell_type": "markdown",
   "metadata": {},
   "source": [
    "As for the elastic energy, we can calculate the work of external forces using a global force vector. \n",
    "$$\n",
    "\\mathcal{F} = \\int_0^L f_u(s) \\,u(s)+f_v(s) \\,v(s)\\,ds = \\sum_e F^{(e)}\\cdot U^{(e)}= F\\cdot U\n",
    "$$\n",
    "where the global vector is found by assembling the local ones. "
   ]
  },
  {
   "cell_type": "markdown",
   "metadata": {},
   "source": [
    "For the case of the beam submitted to its own weight"
   ]
  },
  {
   "cell_type": "code",
   "execution_count": 30,
   "metadata": {},
   "outputs": [
    {
     "data": {
      "image/png": "[encoded data removed]",
      "text/latex": [
       "$$\\left[\\begin{matrix}0.0\\\\-0.5\\\\-0.0833333333333333\\\\0.0\\\\-1.0\\\\0.0\\\\0.0\\\\-1.0\\\\0.0\\\\0.0\\\\-1.0\\\\0.0\\\\0.0\\\\-0.5\\\\0.0833333333333333\\end{matrix}\\right]$$"
      ],
      "text/plain": [
       "⎡        0.0        ⎤\n",
       "⎢                   ⎥\n",
       "⎢       -0.5        ⎥\n",
       "⎢                   ⎥\n",
       "⎢-0.0833333333333333⎥\n",
       "⎢                   ⎥\n",
       "⎢        0.0        ⎥\n",
       "⎢                   ⎥\n",
       "⎢       -1.0        ⎥\n",
       "⎢                   ⎥\n",
       "⎢        0.0        ⎥\n",
       "⎢                   ⎥\n",
       "⎢        0.0        ⎥\n",
       "⎢                   ⎥\n",
       "⎢       -1.0        ⎥\n",
       "⎢                   ⎥\n",
       "⎢        0.0        ⎥\n",
       "⎢                   ⎥\n",
       "⎢        0.0        ⎥\n",
       "⎢                   ⎥\n",
       "⎢       -1.0        ⎥\n",
       "⎢                   ⎥\n",
       "⎢        0.0        ⎥\n",
       "⎢                   ⎥\n",
       "⎢        0.0        ⎥\n",
       "⎢                   ⎥\n",
       "⎢       -0.5        ⎥\n",
       "⎢                   ⎥\n",
       "⎣0.0833333333333333 ⎦"
      ]
     },
     "execution_count": 30,
     "metadata": {},
     "output_type": "execute_result"
    }
   ],
   "source": [
    "F = np.zeros([3*n_nodes])\n",
    "for e in range(n_elements):\n",
    "    for i_local in range(6):    \n",
    "        F[dof_map(e, i_local)] += Fen[i_local] \n",
    "sp.Matrix(F)"
   ]
  },
  {
   "cell_type": "markdown",
   "metadata": {
    "collapsed": true
   },
   "source": [
    "# Solve the system\n",
    "\n",
    "We have finally a linear system to solve of the type\n",
    "$$\n",
    "K\\,U = F\n",
    "$$\n",
    "However some of the components of $U$ are prescribed by the boundary conditions. This should be accounted for.\n"
   ]
  },
  {
   "cell_type": "markdown",
   "metadata": {},
   "source": [
    "## Boundary conditions "
   ]
  },
  {
   "cell_type": "markdown",
   "metadata": {},
   "source": [
    "In our case of a clamped 4-element beam, the first three and the last three components of $U$ are blocked."
   ]
  },
  {
   "cell_type": "code",
   "execution_count": 31,
   "metadata": {},
   "outputs": [
    {
     "data": {
      "text/plain": [
       "array([ 0,  1,  2, 12, 13, 14])"
      ]
     },
     "execution_count": 31,
     "metadata": {},
     "output_type": "execute_result"
    }
   ],
   "source": [
    "blocked_dof = np.array([0, 1, 2, F.size-3, F.size-2, F.size-1])\n",
    "blocked_dof"
   ]
  },
  {
   "cell_type": "markdown",
   "metadata": {},
   "source": [
    "Their values are all imposeed to zero. We collect these values in a vector"
   ]
  },
  {
   "cell_type": "code",
   "execution_count": 32,
   "metadata": {},
   "outputs": [
    {
     "data": {
      "text/plain": [
       "array([0, 0, 0, 0, 0, 0])"
      ]
     },
     "execution_count": 32,
     "metadata": {},
     "output_type": "execute_result"
    }
   ],
   "source": [
    "bc_values = np.array([0, 0, 0, 0, 0, 0])\n",
    "bc_values"
   ]
  },
  {
   "cell_type": "markdown",
   "metadata": {},
   "source": [
    "It is useful also to define the following vector, saying if a giving dof is blocked or not"
   ]
  },
  {
   "cell_type": "code",
   "execution_count": 33,
   "metadata": {},
   "outputs": [
    {
     "data": {
      "text/plain": [
       "array([1, 1, 1, 0, 0, 0, 0, 0, 0, 0, 0, 0, 1, 1, 1])"
      ]
     },
     "execution_count": 33,
     "metadata": {},
     "output_type": "execute_result"
    }
   ],
   "source": [
    "bc_flags = 0*F.astype(\"bool\")\n",
    "bc_flags[blocked_dof] = 1\n",
    "bc_flags"
   ]
  },
  {
   "cell_type": "markdown",
   "metadata": {},
   "source": [
    "## Imposing boundary conditions and solve\n",
    "\n",
    "A first method to imposed bc's is to hack the linear system, so as it verifies the given conditions.\n",
    "The following method is classically employed to keep the system symmetric. We will comment in class."
   ]
  },
  {
   "cell_type": "code",
   "execution_count": 34,
   "metadata": {},
   "outputs": [],
   "source": [
    "def bc_apply(K,F,blocked_dof,bc_values):\n",
    "    for (i, dof) in enumerate(blocked_dof): \n",
    "        Kbc = K \n",
    "        Fbc = F\n",
    "        Kbc[dof, :] = 0\n",
    "        Kbc[:, dof] = 0\n",
    "        Kbc[dof, dof] = 1\n",
    "        Fbc +=  - K[:,dof]*bc_values[i]\n",
    "        Fbc[dof] = bc_values[i]\n",
    "    return Kbc, Fbc"
   ]
  },
  {
   "cell_type": "code",
   "execution_count": 35,
   "metadata": {},
   "outputs": [
    {
     "data": {
      "image/png": "[encoded data removed]",
      "text/latex": [
       "$$\\left ( \\left[\\begin{array}{ccccccccccccccc}1.0 & 0.0 & 0.0 & 0.0 & 0.0 & 0.0 & 0.0 & 0.0 & 0.0 & 0.0 & 0.0 & 0.0 & 0.0 & 0.0 & 0.0\\\\0.0 & 1.0 & 0.0 & 0.0 & 0.0 & 0.0 & 0.0 & 0.0 & 0.0 & 0.0 & 0.0 & 0.0 & 0.0 & 0.0 & 0.0\\\\0.0 & 0.0 & 1.0 & 0.0 & 0.0 & 0.0 & 0.0 & 0.0 & 0.0 & 0.0 & 0.0 & 0.0 & 0.0 & 0.0 & 0.0\\\\0.0 & 0.0 & 0.0 & 200.0 & 0.0 & 0.0 & -100.0 & 0.0 & 0.0 & 0.0 & 0.0 & 0.0 & 0.0 & 0.0 & 0.0\\\\0.0 & 0.0 & 0.0 & 0.0 & 24.0 & 0.0 & 0.0 & -12.0 & 6.0 & 0.0 & 0.0 & 0.0 & 0.0 & 0.0 & 0.0\\\\0.0 & 0.0 & 0.0 & 0.0 & 0.0 & 8.0 & 0.0 & -6.0 & 2.0 & 0.0 & 0.0 & 0.0 & 0.0 & 0.0 & 0.0\\\\0.0 & 0.0 & 0.0 & -100.0 & 0.0 & 0.0 & 200.0 & 0.0 & 0.0 & -100.0 & 0.0 & 0.0 & 0.0 & 0.0 & 0.0\\\\0.0 & 0.0 & 0.0 & 0.0 & -12.0 & -6.0 & 0.0 & 24.0 & 0.0 & 0.0 & -12.0 & 6.0 & 0.0 & 0.0 & 0.0\\\\0.0 & 0.0 & 0.0 & 0.0 & 6.0 & 2.0 & 0.0 & 0.0 & 8.0 & 0.0 & -6.0 & 2.0 & 0.0 & 0.0 & 0.0\\\\0.0 & 0.0 & 0.0 & 0.0 & 0.0 & 0.0 & -100.0 & 0.0 & 0.0 & 200.0 & 0.0 & 0.0 & 0.0 & 0.0 & 0.0\\\\0.0 & 0.0 & 0.0 & 0.0 & 0.0 & 0.0 & 0.0 & -12.0 & -6.0 & 0.0 & 24.0 & 0.0 & 0.0 & 0.0 & 0.0\\\\0.0 & 0.0 & 0.0 & 0.0 & 0.0 & 0.0 & 0.0 & 6.0 & 2.0 & 0.0 & 0.0 & 8.0 & 0.0 & 0.0 & 0.0\\\\0.0 & 0.0 & 0.0 & 0.0 & 0.0 & 0.0 & 0.0 & 0.0 & 0.0 & 0.0 & 0.0 & 0.0 & 1.0 & 0.0 & 0.0\\\\0.0 & 0.0 & 0.0 & 0.0 & 0.0 & 0.0 & 0.0 & 0.0 & 0.0 & 0.0 & 0.0 & 0.0 & 0.0 & 1.0 & 0.0\\\\0.0 & 0.0 & 0.0 & 0.0 & 0.0 & 0.0 & 0.0 & 0.0 & 0.0 & 0.0 & 0.0 & 0.0 & 0.0 & 0.0 & 1.0\\end{array}\\right], \\quad \\left[\\begin{matrix}0.0\\\\0.0\\\\0.0\\\\0.0\\\\-1.0\\\\0.0\\\\0.0\\\\-1.0\\\\0.0\\\\0.0\\\\-1.0\\\\0.0\\\\0.0\\\\0.0\\\\0.0\\end{matrix}\\right]\\right )$$"
      ],
      "text/plain": [
       "⎛⎡1.0  0.0  0.0   0.0     0.0   0.0    0.0     0.0   0.0    0.0     0.0   0.0 \n",
       "⎜⎢                                                                            \n",
       "⎜⎢0.0  1.0  0.0   0.0     0.0   0.0    0.0     0.0   0.0    0.0     0.0   0.0 \n",
       "⎜⎢                                                                            \n",
       "⎜⎢0.0  0.0  1.0   0.0     0.0   0.0    0.0     0.0   0.0    0.0     0.0   0.0 \n",
       "⎜⎢                                                                            \n",
       "⎜⎢0.0  0.0  0.0  200.0    0.0   0.0   -100.0   0.0   0.0    0.0     0.0   0.0 \n",
       "⎜⎢                                                                            \n",
       "⎜⎢0.0  0.0  0.0   0.0    24.0   0.0    0.0    -12.0  6.0    0.0     0.0   0.0 \n",
       "⎜⎢                                                                            \n",
       "⎜⎢0.0  0.0  0.0   0.0     0.0   8.0    0.0    -6.0   2.0    0.0     0.0   0.0 \n",
       "⎜⎢                                                                            \n",
       "⎜⎢0.0  0.0  0.0  -100.0   0.0   0.0   200.0    0.0   0.0   -100.0   0.0   0.0 \n",
       "⎜⎢                                                                            \n",
       "⎜⎢0.0  0.0  0.0   0.0    -12.0  -6.0   0.0    24.0   0.0    0.0    -12.0  6.0 \n",
       "⎜⎢                                                                            \n",
       "⎜⎢0.0  0.0  0.0   0.0     6.0   2.0    0.0     0.0   8.0    0.0    -6.0   2.0 \n",
       "⎜⎢                                                                            \n",
       "⎜⎢0.0  0.0  0.0   0.0     0.0   0.0   -100.0   0.0   0.0   200.0    0.0   0.0 \n",
       "⎜⎢                                                                            \n",
       "⎜⎢0.0  0.0  0.0   0.0     0.0   0.0    0.0    -12.0  -6.0   0.0    24.0   0.0 \n",
       "⎜⎢                                                                            \n",
       "⎜⎢0.0  0.0  0.0   0.0     0.0   0.0    0.0     6.0   2.0    0.0     0.0   8.0 \n",
       "⎜⎢                                                                            \n",
       "⎜⎢0.0  0.0  0.0   0.0     0.0   0.0    0.0     0.0   0.0    0.0     0.0   0.0 \n",
       "⎜⎢                                                                            \n",
       "⎜⎢0.0  0.0  0.0   0.0     0.0   0.0    0.0     0.0   0.0    0.0     0.0   0.0 \n",
       "⎜⎢                                                                            \n",
       "⎝⎣0.0  0.0  0.0   0.0     0.0   0.0    0.0     0.0   0.0    0.0     0.0   0.0 \n",
       "\n",
       " 0.0  0.0  0.0⎤  ⎡0.0 ⎤⎞\n",
       "              ⎥  ⎢    ⎥⎟\n",
       " 0.0  0.0  0.0⎥  ⎢0.0 ⎥⎟\n",
       "              ⎥  ⎢    ⎥⎟\n",
       " 0.0  0.0  0.0⎥  ⎢0.0 ⎥⎟\n",
       "              ⎥  ⎢    ⎥⎟\n",
       " 0.0  0.0  0.0⎥  ⎢0.0 ⎥⎟\n",
       "              ⎥  ⎢    ⎥⎟\n",
       " 0.0  0.0  0.0⎥  ⎢-1.0⎥⎟\n",
       "              ⎥  ⎢    ⎥⎟\n",
       " 0.0  0.0  0.0⎥  ⎢0.0 ⎥⎟\n",
       "              ⎥  ⎢    ⎥⎟\n",
       " 0.0  0.0  0.0⎥  ⎢0.0 ⎥⎟\n",
       "              ⎥  ⎢    ⎥⎟\n",
       " 0.0  0.0  0.0⎥, ⎢-1.0⎥⎟\n",
       "              ⎥  ⎢    ⎥⎟\n",
       " 0.0  0.0  0.0⎥  ⎢0.0 ⎥⎟\n",
       "              ⎥  ⎢    ⎥⎟\n",
       " 0.0  0.0  0.0⎥  ⎢0.0 ⎥⎟\n",
       "              ⎥  ⎢    ⎥⎟\n",
       " 0.0  0.0  0.0⎥  ⎢-1.0⎥⎟\n",
       "              ⎥  ⎢    ⎥⎟\n",
       " 0.0  0.0  0.0⎥  ⎢0.0 ⎥⎟\n",
       "              ⎥  ⎢    ⎥⎟\n",
       " 1.0  0.0  0.0⎥  ⎢0.0 ⎥⎟\n",
       "              ⎥  ⎢    ⎥⎟\n",
       " 0.0  1.0  0.0⎥  ⎢0.0 ⎥⎟\n",
       "              ⎥  ⎢    ⎥⎟\n",
       " 0.0  0.0  1.0⎦  ⎣0.0 ⎦⎠"
      ]
     },
     "execution_count": 35,
     "metadata": {},
     "output_type": "execute_result"
    }
   ],
   "source": [
    "Kbc, Fbc = bc_apply(K, F, blocked_dof, bc_values)\n",
    "sp.Matrix(Kbc), sp.Matrix(Fbc)"
   ]
  },
  {
   "cell_type": "markdown",
   "metadata": {},
   "source": [
    "To solve the linear systems we use the tools available in `numpy` (we could also program our LU or CG solver ...)"
   ]
  },
  {
   "cell_type": "code",
   "execution_count": 36,
   "metadata": {},
   "outputs": [
    {
     "data": {
      "text/plain": [
       "array([  0.00000000e+00,   0.00000000e+00,   0.00000000e+00,\n",
       "         0.00000000e+00,  -3.75000000e-01,  -5.00000000e-01,\n",
       "         0.00000000e+00,  -6.66666667e-01,   7.40148683e-17,\n",
       "         0.00000000e+00,  -3.75000000e-01,   5.00000000e-01,\n",
       "         0.00000000e+00,   0.00000000e+00,   0.00000000e+00])"
      ]
     },
     "execution_count": 36,
     "metadata": {},
     "output_type": "execute_result"
    }
   ],
   "source": [
    "# from scipy.sparse import linalg\n",
    "Usol = np.linalg.solve(Kbc,Fbc)\n",
    "Usol"
   ]
  },
  {
   "cell_type": "markdown",
   "metadata": {},
   "source": [
    "This is a simple visualization of the solution"
   ]
  },
  {
   "cell_type": "code",
   "execution_count": 37,
   "metadata": {},
   "outputs": [
    {
     "data": {
      "text/plain": [
       "[<matplotlib.lines.Line2D at 0x1107b28d0>]"
      ]
     },
     "execution_count": 37,
     "metadata": {},
     "output_type": "execute_result"
    },
    {
     "data": {
      "image/png": "[encoded data removed]",
      "text/plain": [
       "<matplotlib.figure.Figure at 0x1107824e0>"
      ]
     },
     "metadata": {},
     "output_type": "display_data"
    }
   ],
   "source": [
    "def plot_deformed(Usol):\n",
    "    x_c = nodes[:,0]+[Usol[3*e] for e in range(n_nodes)]\n",
    "    y_c = nodes[:,1]+[Usol[3*e+1] for e in range(n_nodes)]\n",
    "    return plt.plot(x_c, y_c, '-o')\n",
    "plot_deformed(Usol)"
   ]
  },
  {
   "cell_type": "markdown",
   "metadata": {},
   "source": [
    "## Imposing boundary conditions (alternative method) and solve"
   ]
  },
  {
   "cell_type": "markdown",
   "metadata": {},
   "source": [
    "To impose the bcs, we solve a reduced system, where we eliminate the rows and columns corresponding to blocked dof. We call `K_red` and `F_red` the new matrix"
   ]
  },
  {
   "cell_type": "code",
   "execution_count": 38,
   "metadata": {},
   "outputs": [
    {
     "data": {
      "image/png": "[encoded data removed]",
      "text/latex": [
       "$$\\left ( \\left[\\begin{matrix}200.0 & 0.0 & 0.0 & -100.0 & 0.0 & 0.0 & 0.0 & 0.0 & 0.0\\\\0.0 & 24.0 & 0.0 & 0.0 & -12.0 & 6.0 & 0.0 & 0.0 & 0.0\\\\0.0 & 0.0 & 8.0 & 0.0 & -6.0 & 2.0 & 0.0 & 0.0 & 0.0\\\\-100.0 & 0.0 & 0.0 & 200.0 & 0.0 & 0.0 & -100.0 & 0.0 & 0.0\\\\0.0 & -12.0 & -6.0 & 0.0 & 24.0 & 0.0 & 0.0 & -12.0 & 6.0\\\\0.0 & 6.0 & 2.0 & 0.0 & 0.0 & 8.0 & 0.0 & -6.0 & 2.0\\\\0.0 & 0.0 & 0.0 & -100.0 & 0.0 & 0.0 & 200.0 & 0.0 & 0.0\\\\0.0 & 0.0 & 0.0 & 0.0 & -12.0 & -6.0 & 0.0 & 24.0 & 0.0\\\\0.0 & 0.0 & 0.0 & 0.0 & 6.0 & 2.0 & 0.0 & 0.0 & 8.0\\end{matrix}\\right], \\quad \\left[\\begin{matrix}0.0\\\\-1.0\\\\0.0\\\\0.0\\\\-1.0\\\\0.0\\\\0.0\\\\-1.0\\\\0.0\\end{matrix}\\right]\\right )$$"
      ],
      "text/plain": [
       "⎛⎡200.0    0.0   0.0   -100.0   0.0   0.0    0.0     0.0   0.0⎤  ⎡0.0 ⎤⎞\n",
       "⎜⎢                                                            ⎥  ⎢    ⎥⎟\n",
       "⎜⎢ 0.0    24.0   0.0    0.0    -12.0  6.0    0.0     0.0   0.0⎥  ⎢-1.0⎥⎟\n",
       "⎜⎢                                                            ⎥  ⎢    ⎥⎟\n",
       "⎜⎢ 0.0     0.0   8.0    0.0    -6.0   2.0    0.0     0.0   0.0⎥  ⎢0.0 ⎥⎟\n",
       "⎜⎢                                                            ⎥  ⎢    ⎥⎟\n",
       "⎜⎢-100.0   0.0   0.0   200.0    0.0   0.0   -100.0   0.0   0.0⎥  ⎢0.0 ⎥⎟\n",
       "⎜⎢                                                            ⎥  ⎢    ⎥⎟\n",
       "⎜⎢ 0.0    -12.0  -6.0   0.0    24.0   0.0    0.0    -12.0  6.0⎥, ⎢-1.0⎥⎟\n",
       "⎜⎢                                                            ⎥  ⎢    ⎥⎟\n",
       "⎜⎢ 0.0     6.0   2.0    0.0     0.0   8.0    0.0    -6.0   2.0⎥  ⎢0.0 ⎥⎟\n",
       "⎜⎢                                                            ⎥  ⎢    ⎥⎟\n",
       "⎜⎢ 0.0     0.0   0.0   -100.0   0.0   0.0   200.0    0.0   0.0⎥  ⎢0.0 ⎥⎟\n",
       "⎜⎢                                                            ⎥  ⎢    ⎥⎟\n",
       "⎜⎢ 0.0     0.0   0.0    0.0    -12.0  -6.0   0.0    24.0   0.0⎥  ⎢-1.0⎥⎟\n",
       "⎜⎢                                                            ⎥  ⎢    ⎥⎟\n",
       "⎝⎣ 0.0     0.0   0.0    0.0     6.0   2.0    0.0     0.0   8.0⎦  ⎣0.0 ⎦⎠"
      ]
     },
     "execution_count": 38,
     "metadata": {},
     "output_type": "execute_result"
    }
   ],
   "source": [
    "K_red = np.delete(K, blocked_dof, axis = (0))\n",
    "K_red = np.delete(K_red, blocked_dof, axis = (1))\n",
    "F_red = np.delete(F, blocked_dof, axis = (0))\n",
    "sp.Matrix(K_red),sp.Matrix(F_red)"
   ]
  },
  {
   "cell_type": "markdown",
   "metadata": {},
   "source": [
    "We solve the reduced linear system using the tools available in `numpy` (more on the next classes)"
   ]
  },
  {
   "cell_type": "code",
   "execution_count": 39,
   "metadata": {},
   "outputs": [
    {
     "data": {
      "text/plain": [
       "array([  0.00000000e+00,  -3.75000000e-01,  -5.00000000e-01,\n",
       "         0.00000000e+00,  -6.66666667e-01,   7.40148683e-17,\n",
       "         0.00000000e+00,  -3.75000000e-01,   5.00000000e-01])"
      ]
     },
     "execution_count": 39,
     "metadata": {},
     "output_type": "execute_result"
    }
   ],
   "source": [
    "from scipy.sparse import linalg\n",
    "Usol_red = np.linalg.solve(K_red,F_red)\n",
    "Usol_red"
   ]
  },
  {
   "cell_type": "markdown",
   "metadata": {},
   "source": [
    "Of course we miss the points with blocked dofs ... But we can easily reintegrate the missing points into the vector"
   ]
  },
  {
   "cell_type": "code",
   "execution_count": 40,
   "metadata": {},
   "outputs": [
    {
     "name": "stdout",
     "output_type": "stream",
     "text": [
      "[  0.00000000e+00   0.00000000e+00   0.00000000e+00   0.00000000e+00\n",
      "  -3.75000000e-01  -5.00000000e-01   0.00000000e+00  -6.66666667e-01\n",
      "   7.40148683e-17   0.00000000e+00  -3.75000000e-01   5.00000000e-01\n",
      "   0.00000000e+00   0.00000000e+00   0.00000000e+00]\n"
     ]
    },
    {
     "data": {
      "text/plain": [
       "[<matplotlib.lines.Line2D at 0x111c870f0>]"
      ]
     },
     "execution_count": 40,
     "metadata": {},
     "output_type": "execute_result"
    },
    {
     "data": {
      "image/png": "[encoded data removed]",
      "text/plain": [
       "<matplotlib.figure.Figure at 0x111c43828>"
      ]
     },
     "metadata": {},
     "output_type": "display_data"
    }
   ],
   "source": [
    "Usol_full = np.zeros(F.size)\n",
    "Usol_full[bc_flags==0]=Usol_red\n",
    "print(Usol_full)\n",
    "plot_deformed(Usol_full)"
   ]
  },
  {
   "cell_type": "code",
   "execution_count": null,
   "metadata": {},
   "outputs": [],
   "source": []
  }
 ],
 "metadata": {
  "kernelspec": {
   "display_name": "Python 3",
   "language": "python",
   "name": "python3"
  },
  "language_info": {
   "codemirror_mode": {
    "name": "ipython",
    "version": 3
   },
   "file_extension": ".py",
   "mimetype": "text/x-python",
   "name": "python",
   "nbconvert_exporter": "python",
   "pygments_lexer": "ipython3",
   "version": "3.6.3"
  }
 },
 "nbformat": 4,
 "nbformat_minor": 1
}
