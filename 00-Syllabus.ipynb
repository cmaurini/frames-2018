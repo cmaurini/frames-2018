{
 "cells": [
  {
   "cell_type": "markdown",
   "metadata": {},
   "source": [
    "# Projet Mécanique des Solides\n",
    "---\n",
    "\n",
    "* Corrado Maurini, *corrado.maurini@upmc.fr*, Institut d'Alembert, 55.65.414\n",
    "* Fatiha Bouchelaghem, *fatiha.bouchelaghem@upmc.fr*, Institut d'Alembert"
   ]
  },
  {
   "cell_type": "markdown",
   "metadata": {},
   "source": [
    "### Plan des séances\n",
    "---\n",
    "\n",
    "* 5 Séances présentielles (presence obligatoire):\n",
    "    1. 20/02 Introduction à python. Modélisation numérique des portiques sur `python` \n",
    "    2. Modélisation numérique des portiques sur `python` \n",
    "    3. Résolution des systèmes linéaire \n",
    "    4. Projet \n",
    "    5. Projet \n",
    "\n",
    "* 1 Séances en libre service\n",
    "\n",
    "* 24/04 Soutenances"
   ]
  },
  {
   "cell_type": "markdown",
   "metadata": {},
   "source": [
    "### Objectifs\n",
    "-----\n",
    "\n",
    "* Modélisation de treillis et portiques\n",
    "* Méthodes numériques pour la résolution des systèmes linéaires\n",
    "* Apprendre des outils modernes pour le calcul scientifique en `python` \n",
    "* Comparer les résultats numériques avec des expériences \n",
    "* Modéliser des structures complexes"
   ]
  },
  {
   "cell_type": "markdown",
   "metadata": {},
   "source": [
    "### Plan séance 1\n",
    "\n",
    "* Une courte introduction à `python`\n",
    "* Révision du modéle de poutre\n",
    "* Modèle discret de poutre\n",
    "* Modèle discret de portique\n"
   ]
  },
  {
   "cell_type": "markdown",
   "metadata": {},
   "source": [
    "# Project\n",
    "\n",
    "The goal of the project is to develop a code to model generic truss structure and to apply it to the study of specific structures. We will propose to apply it the structural modelling of the Eiffel Tower and other systems."
   ]
  },
  {
   "cell_type": "markdown",
   "metadata": {},
   "source": [
    "# References\n",
    "---\n",
    "\n",
    "## Installation\n",
    "\n",
    "We will use `python 3` and the packages `matplotlib`, `numpy`, `scipy`, `sympy`, `jupyter`.\n",
    "These packages are already installed in the computer rooms at UPMC\n",
    "\n",
    "An easy way to install all of this in your own computer is to use anaconda:\n",
    "https://www.continuum.io/downloads\n",
    "\n",
    "## Python \n",
    "* https://github.com/barbagroup/CFDPython/blob/master/lessons/00_Quick_Python_Intro.ipynb \n",
    "* https://github.com/jrjohansson/scientific-python-lectures \n",
    "* https://jupyter.org\n",
    "* https://openclassrooms.com/courses/la-programmation-scientifique-avec-python\n",
    "\n",
    "\n",
    "## Markdown\n",
    "* https://github.com/adam-p/markdown-here/wiki/Markdown-Cheatsheet#images\n",
    "* https://www.youtube.com/watch?v=-F4WS8o-G2A\n",
    "\n",
    "## Latex\n",
    "* http://users.dickinson.edu/~richesod/latex/latexcheatsheet.pdf\n",
    "* https://www.authorea.com/users/3/articles/6868\n",
    "\n",
    "\n",
    "## Portiques\n",
    "* http://www.facweb.iitkgp.ernet.in/~baidurya/CE21004/online_lecture_notes/m4l30.pdf\n",
    "* http://people.duke.edu/~hpgavin/cee421/frame-element.pdf\n",
    "* https://meefi.pedagogie.ec-nantes.fr/meef/pdf/poly-MEEFI.pdf"
   ]
  },
  {
   "cell_type": "code",
   "execution_count": null,
   "metadata": {
    "collapsed": true
   },
   "outputs": [],
   "source": []
  }
 ],
 "metadata": {
  "kernelspec": {
   "display_name": "Python 3",
   "language": "python",
   "name": "python3"
  },
  "language_info": {
   "codemirror_mode": {
    "name": "ipython",
    "version": 3
   },
   "file_extension": ".py",
   "mimetype": "text/x-python",
   "name": "python",
   "nbconvert_exporter": "python",
   "pygments_lexer": "ipython3",
   "version": "3.6.3"
  }
 },
 "nbformat": 4,
 "nbformat_minor": 1
}
